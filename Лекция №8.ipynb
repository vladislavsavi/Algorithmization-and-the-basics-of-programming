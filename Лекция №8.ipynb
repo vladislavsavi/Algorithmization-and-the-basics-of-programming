{
 "cells": [
  {
   "cell_type": "markdown",
   "metadata": {},
   "source": [
    "<h3>Текстовые строки (String)</h3>\n",
    "Вид коллекции, котрый хранит символы внутри \" \" кавычек и ' ' апострофах:<br>\n",
    "<code>a = \"asdfasdfjsdofi j_sdfljks jdflskdf   lskdfjsldkfjsldfkj_sfdlskdfj l\"\n",
    "b = 'sdjflksdjfl'</code><br>\n",
    "Не разрешенные символы в строках:<br>\n",
    "<ol>\n",
    "    <li><code>\\</code></li>\n",
    "    <li><code>\"</code> - если строки созданы с кавычками <code>\" \"</code></li>\n",
    "    <li><code>'</code> - если строки созданы с апострафами <code>' '</code></li>\n",
    "</ol>\n",
    "\n",
    "<i style=\"color:red\">Не разрешается менять значение строки на месте</i>\n",
    "\n",
    "<h3>Создание строк</h3>\n",
    "<ul>\n",
    "    <li><code>a = \"sdlfksjdflkj\"</code></li>\n",
    "    <li><code>a = 'asdfasdfsdf'</code></li>\n",
    "    <li><code>a = input(\"Enter a = \")</code> – функция <code>input()</code> вводит данные как строку</li>\n",
    "</ul><br>\n",
    "\n",
    "<h3>Специальные символы в строках</h3>\n",
    "<code>\\n</code> – символ новой строки:<br>\n",
    "<code>a = “asdf\\nsdfsd”\n",
    "print(a)</code><br><br>\n",
    "\n",
    "<code>\\t</code> – табуляция:<br>\n",
    "<code>a = “asdf\\tasdf”\n",
    "print(a)</code><br><br>\n",
    "\n",
    "<code>\\\\</code> - символ \\ используется в основном для создания специальных символов, желательно использовать \\\\:<br>\n",
    "<code>a = “asdf\\\\asdf”\n",
    "print(a)</code><br><br>\n",
    "\n",
    "<code>\\'</code> – Если нужен вложенный апостраф в ' ':<br>\n",
    "<code>a = ‘asdf\\’asdf\\’’\n",
    "print(a)</code><br><br>\n",
    "\n",
    "<code>\\\"</code> – Если нужна вложенная кавычка в \" \":<br>\n",
    "<code>a = \"asdf\\\"asdf\\\"\"\n",
    "print(a)</code><br>\n",
    "\n",
    "<h3>Обращение к символам строки</h3>\n",
    "Доступ к элементам строки можно получить также как и в списках, но нельзя менять значения.<br>\n",
    "<code>a = \"asdfasdf\"\n",
    "print(a[0]) # a\n",
    "print(a[1]) # s\n",
    "print(a[1:4]) # sdf\n",
    "print(a[-1]) # f\n",
    "print(a[0:5:2]) # ada\n",
    "for x in a:\n",
    "    print(x) #a s d f a s d f</code><br>\n",
    "\n",
    "<h3>Операций над строками</h3>\n",
    "<code>a = \"asdf\"\n",
    "b = \"qwer\"</code><br>\n",
    "<code>+</code> - объединение две строки:<br>\n",
    "<code>c = a+b</code><br><br>\n",
    "\n",
    "$*$ - повторение строки:<br>\n",
    "<code>d = a*3</code><br><br>\n",
    "    \n",
    "<code>in</code> - проверка существования строки внутри строки:<br>\n",
    "<code>e = \"x\" in a\n",
    "g = \"sd\" in a</code><br><br>\n",
    "\n",
    "<h3>Оснавные функций строк</h3>\n",
    "<code>ord(символ)</code> – Вывод номера символа в ASCII таблице:\n",
    "<code>print(ord('a')) # 97</code><br><br>\n",
    "\n",
    "<code>chr(n)</code> – Выводит символ по номеру в ASCII таблице, n число $[0,255]$:<br>\n",
    "<code>print(chr(97)) # a</code><br><br>\n",
    "\n",
    "<code>str(Любое значение)</code> – создает строку из введенного как параметр значения:<br>\n",
    "<code>a=str(10) # 10</code> - a строка со значением '10'<br><br>\n",
    "\n",
    "<code>len(string)</code> – количество символов в строке:<br>\n",
    "<code>print(len(\"asdfasdf\")) # 8</code><br><br>\n",
    "\n",
    "<code>строка.isalnum()</code> – выводит True если все символы буквы или числа.<br>\n",
    "<code>print(\"asdf\".isalnum()) #False\n",
    "print(\"1234\".isalnum()) #True\n",
    "print(\"sdf234\".isalnum()) #False</code><br><br>\n",
    "\n",
    "<code>строка.isalpha()</code> – выводит True если все символы буквы.<br>\n",
    "<code>print(\"asdf\".isalpha()) #True\n",
    "print(\"f32f\".isalpha()) #False</code><br><br>\n",
    "\n",
    "<code>строка.isdigit()</code> – выводит True если все символы числа<br>\n",
    "<code>print(\"sdfsd123g\".isdigit()) #False\n",
    "print(\"2345235\".isdigit()) #True</code><br><br>\n",
    "\n",
    "<code>строка.islower()</code> – выводит True если все символы нижнего регистра.<br>\n",
    "<code>print(\"safsd23f\".islower()) #True\n",
    "print(\"2353\".islower()) #False\n",
    "print(\"Afdf\".ilower()) #False</code><br><br>\n",
    "\n",
    "<code>строка.isupper()</code> – выводит True если все символы верхнего регистра.<br>\n",
    "<code>print(\"asdf\".isupper()) #False\n",
    "print(\"Adfdf\".isupper()) #False\n",
    "print(\"ASDFSDF34124\".isupper()) #True\n",
    "print(\"ASDF\".isupper()) #True</code><br><br>\n",
    "\n",
    "<code>строка.isspace()</code> - выводит True если все символы пробелы.<br>\n",
    "<code>print(\"    \".isspace()) #True\n",
    "print(\"sdfs    \".isspace()) #False</code><br><br>\n",
    "\n",
    "<code>строка.lower()</code> – переводит все в нижние регистры.<br>\n",
    "<code>print(\"ASDFfd\".lower()) #asdffd</code><br><br>\n",
    "\n",
    "<code>строка.upper()</code> - переводит все в верхние регистры.<br>\n",
    "<code>print(\"ASDfasdf\".upper()) #ASDFASDF</code><br><br>\n",
    "\n",
    "<code>строка.lstrip()</code> – удаляет пробелы слева.<br>\n",
    "<code>print(\"   asdfasdf\".lstrip()) #asdfasdf</code><br><br>\n",
    "\n",
    "<code>строка.rstrip()</code> – удаляет пробелы справа.<br>\n",
    "<code>print(\"asdf    \".rstrip()) #asdf</code><br><br>\n",
    "\n",
    "<code>строка.strip()</code> – удаляет пробелы с обеих сторон.<br>\n",
    "<code>print(\"   asdf asdf    \") #asdf asdf</code><br><br>\n",
    "\n",
    "<code>строка.join(коллекция из строк)</code> – соединяет каждый элемент в коллекций через string.<br>\n",
    "<code>print(\"---\".join(['asdf', 'a', 'asdf', 'b']) #asdf---a---asdf---b</code><br><br>\n",
    "\n",
    "<code>строка.replace(старая_строка, новая_строка)</code> – заменяет старая_строка в указанной строке на новая_строка.<br>\n",
    "<code>print(\"asdfasdf\".replace(\"df\", \"AA\")) #asAAasAA</code><br><br>\n",
    "\n",
    "<code>строка.split(новая_строка)</code> – разделяет строку с указанным новой строкой новая_строка, полученное значение будет списком:\n",
    "<code>print(\"a,b,c,d,e,f,g\".split(\",\") #['a','b','c','d','e','f','g']</code><br><br>\n",
    "\n",
    "<code>list(строка)</code> – создает строку, элементами будут символы указанной строки.<br>\n",
    "<code>print(list(\"asdf asdf\")) #['a','s','d','f', ' ', 'a', 's', 'd', 'f']</code><br><br>"
   ]
  },
  {
   "cell_type": "markdown",
   "metadata": {},
   "source": [
    "<br><u><i style=\"color:blue\">Задача №1</i></u>: Ввести строку. Вывести все гласные буквы."
   ]
  },
  {
   "cell_type": "code",
   "execution_count": null,
   "metadata": {},
   "outputs": [],
   "source": []
  },
  {
   "cell_type": "markdown",
   "metadata": {},
   "source": [
    "<br><u><i style=\"color:blue\">Задача №2</i></u>: Ввести строку. Найти цифры и просуммировать их."
   ]
  },
  {
   "cell_type": "code",
   "execution_count": null,
   "metadata": {},
   "outputs": [],
   "source": []
  },
  {
   "cell_type": "markdown",
   "metadata": {},
   "source": [
    "<br><u><i style=\"color:blue\">Задача №3</i></u>: Создать список из строк. Найти строку с максимальной длиной и если их несколько вывести все."
   ]
  },
  {
   "cell_type": "code",
   "execution_count": null,
   "metadata": {},
   "outputs": [],
   "source": []
  },
  {
   "cell_type": "markdown",
   "metadata": {},
   "source": [
    "<br><u><i style=\"color:blue\">Задача №4</i></u>: Всести строку, которая хранит числа через пробел. Найти среди этих чисел максимальную."
   ]
  },
  {
   "cell_type": "code",
   "execution_count": null,
   "metadata": {},
   "outputs": [],
   "source": []
  },
  {
   "cell_type": "markdown",
   "metadata": {},
   "source": [
    "<br><u><i style=\"color:blue\">Задача №5</i></u>: Создать картеж из строк. Найти строку с где больше цифр."
   ]
  },
  {
   "cell_type": "code",
   "execution_count": null,
   "metadata": {},
   "outputs": [],
   "source": []
  },
  {
   "cell_type": "markdown",
   "metadata": {},
   "source": [
    "<h3>Работа с файлами</h3>\n",
    "<code>файл = open(имя_файла, мод)</code> – функция для открытия файла.<br>\n",
    "<b>Пример имени файла:</b><br>\n",
    "<code>имя_файла = \"D:\\\\new_dir\\\\anotherfile.txt\"</code><br><br>\n",
    "\n",
    "<b>Мод:</b>\n",
    "<ul>\n",
    "    <li><code>r</code> : По умолчанию, только для чтения файла. Если нет файла, то это будет ошибкой.<br>\n",
    "        <code>f = open(\"test.txt\", \"r\")\n",
    "print(f.read())</code>\n",
    "    </li>\n",
    "    <li><code>w</code> : Только для записи в файл. Очишает файл сразу как была вызвана функция <code>open()</code> с модом <code>w</code>. Если нет файла, то она создается.<br>\n",
    "        <code>f = open(\"test.txt\", \"w\")\n",
    "f.write(\"Here some new line text with cleaning all old content\")</code>\n",
    "    </li>\n",
    "    <li><code>a</code> : Только для записей в конец файла, не стирает старые записи. Если нет файла, она создается.<br>\n",
    "        <code>f = open(\"test.txt\", \"a\")\n",
    "f.write(\"\\nHere some new line without deleting previous content\")</code>\n",
    "    </li>\n",
    "</ul>\n",
    "\n",
    "<b>Функций работы с файлами</b><br>\n",
    "<code>файл.read(n)</code> – чтение n символов, по умолчанию все:<br>\n",
    "<b>Пример:</b><br>\n",
    "<code>f = open(\"test.txt\", \"r\")\n",
    "s = f.read()\n",
    "sn = f.read(5)\n",
    "print(s)\n",
    "print(sn)</code><br><br>\n",
    "\n",
    "<code>файл.readline(n)</code> – чтение n символов, по умолчанию одну линию:<br>\n",
    "<b>Пример:</b><br>\n",
    "<code>f = open(\"test.txt\", \"r\")\n",
    "sl = f.readline()\n",
    "sln = f.readline(10)\n",
    "print(sl)\n",
    "print(sln)</code><br><br>\n",
    "\n",
    "<code>файл.readlines(n)</code> – чтение n символов, по умолчанию все линий. Создается список строк по количествам линий.:<br>\n",
    "<b>Прмер:</b><br>\n",
    "<code>f = open(\"test.txt\", \"r\")\n",
    "sls = f.readlines()\n",
    "slns = f.readlines(10)\n",
    "print(sls)\n",
    "print(slns)</code><br><br>\n",
    "\n",
    "<code>файл.write(строка)</code> – Запись в открытый файл:<br>\n",
    "<b>Пример:</b><br>\n",
    "<code>f = open(\"test.txt\", \"w\")\n",
    "f.write(\"All was cleared and this is new text\")\n",
    "f.close()\n",
    "\n",
    "ff = open(\"test.txt\", \"a\")\n",
    "ff.write(\"Nothing was cleared\")\n",
    "ff.close()</code><br><br>\n",
    "\n",
    "<code>файл.close()</code> – Закритие и сохранение открытого файла:<br>\n",
    "<b>Пример:</b><br>\n",
    "<code>f = open(\"test.txt\", \"w\")\n",
    "f.write(\"wow, I'm happy to see you again, \\nand this is new line\")\n",
    "f.close()</code>"
   ]
  },
  {
   "cell_type": "markdown",
   "metadata": {},
   "source": [
    "<br><u><i style=\"color:blue\">Задача №6</i></u>: Написать 5 чисел в файл, прочитать и найти максимум среди этих чисел."
   ]
  },
  {
   "cell_type": "code",
   "execution_count": null,
   "metadata": {},
   "outputs": [],
   "source": []
  },
  {
   "cell_type": "markdown",
   "metadata": {},
   "source": [
    "<br><u><i style=\"color:blue\">Задача №7</i></u>: Написать нейзвестное количество чисел через пробел. Написать код которая сохранит в список все числа из файла."
   ]
  },
  {
   "cell_type": "code",
   "execution_count": null,
   "metadata": {},
   "outputs": [],
   "source": []
  },
  {
   "cell_type": "markdown",
   "metadata": {},
   "source": [
    "<br><u><i style=\"color:blue\">Задача №8</i></u>: Вывезти чсе четные числа из задачи №7."
   ]
  },
  {
   "cell_type": "code",
   "execution_count": null,
   "metadata": {},
   "outputs": [],
   "source": []
  },
  {
   "cell_type": "markdown",
   "metadata": {},
   "source": [
    "<br><u><i style=\"color:blue\">Задача №9</i></u>: Найти количество разных чисел."
   ]
  },
  {
   "cell_type": "code",
   "execution_count": null,
   "metadata": {},
   "outputs": [],
   "source": []
  },
  {
   "cell_type": "markdown",
   "metadata": {},
   "source": [
    "<br><u><i style=\"color:blue\">Задача №10</i></u>: Найти сумму всех положительных нечетных чисел."
   ]
  },
  {
   "cell_type": "code",
   "execution_count": null,
   "metadata": {},
   "outputs": [],
   "source": []
  }
 ],
 "metadata": {
  "kernelspec": {
   "display_name": "Python 3",
   "language": "python",
   "name": "python3"
  },
  "language_info": {
   "codemirror_mode": {
    "name": "ipython",
    "version": 3
   },
   "file_extension": ".py",
   "mimetype": "text/x-python",
   "name": "python",
   "nbconvert_exporter": "python",
   "pygments_lexer": "ipython3",
   "version": "3.7.0"
  }
 },
 "nbformat": 4,
 "nbformat_minor": 2
}
