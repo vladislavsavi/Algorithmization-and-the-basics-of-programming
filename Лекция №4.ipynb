{
 "cells": [
  {
   "attachments": {},
   "cell_type": "markdown",
   "metadata": {},
   "source": [
    "<h1>Цикл <code>for</code>. Функция <code>range()</code></h1>\n",
    "<h3>Цикл <code>for</code></h3>\n",
    "<b>Синтаксис</b><br>\n",
    "<code>for имя_переменной in диапазон_целых_чисел_или_набор:\n",
    "    действия\n",
    "else:\n",
    "    действия</code><br><br>\n",
    "Обратите внимание на табуляцию, else приминяются для случаев вне цикла, не обязательно использовать else.<br>\n",
    "По сравнению с while, for используют для пробежки по определенным элементам какого-либо набора или по целым числам в определенном диапазоне.<br><br>\n",
    "\n",
    "<h3>Функция диапазона <code>range(a)</code> - с одним параметром</h3>\n",
    "<b><code>range()</code></b> - используется для создания диапазано целых чисел. В основном используют с циклом <code>for</code>, <code>a</code> - целое положительное число<br>\n",
    "\n",
    "<ul>\n",
    "    <li><code>range(a)</code> – создает диапазон от 0 до a-1, где a>0 и целое число</li>\n",
    "    <li><code>range(-10)</code> – цикла не будет</li>\n",
    "    <li><code>range(10.1)</code> – ошибка</li>\n",
    "</ul>\n",
    "<b>Пример №1:</b> Распечатать числа от 0 до 9"
   ]
  },
  {
   "cell_type": "code",
   "execution_count": 3,
   "metadata": {},
   "outputs": [
    {
     "name": "stdout",
     "output_type": "stream",
     "text": [
      "0\n",
      "1\n",
      "2\n",
      "3\n",
      "4\n",
      "5\n",
      "6\n",
      "7\n",
      "8\n",
      "9\n"
     ]
    }
   ],
   "source": [
    "for a in range(10):\n",
    "    print(a)"
   ]
  },
  {
   "cell_type": "markdown",
   "metadata": {},
   "source": [
    "<b>Пример №2:</b>\n",
    "Распечатать квадрат чисел от 0 до 9"
   ]
  },
  {
   "cell_type": "code",
   "execution_count": 6,
   "metadata": {},
   "outputs": [
    {
     "name": "stdout",
     "output_type": "stream",
     "text": [
      "0\n",
      "1\n",
      "4\n",
      "9\n",
      "16\n",
      "25\n",
      "36\n",
      "49\n",
      "64\n",
      "81\n"
     ]
    }
   ],
   "source": [
    "for a in range(10):\n",
    "    print(a**2)"
   ]
  },
  {
   "cell_type": "markdown",
   "metadata": {},
   "source": [
    "<b>Пример №3:</b> Вывести сумму деляшихся на 3 чисел от 0 до 9"
   ]
  },
  {
   "cell_type": "code",
   "execution_count": 7,
   "metadata": {},
   "outputs": [
    {
     "name": "stdout",
     "output_type": "stream",
     "text": [
      "18\n"
     ]
    }
   ],
   "source": [
    "sum=0\n",
    "for a in range(10):\n",
    "    if a%3==0:\n",
    "        sum+=a\n",
    "print(sum)"
   ]
  },
  {
   "attachments": {},
   "cell_type": "markdown",
   "metadata": {},
   "source": [
    "<h3>Функция диапазона <code>range(a, b)</code> - с двумя параметрами</h3>\n",
    "range(a, b) – диапазон от a до b-1, где a меньше b и a и b целые числа<br>\n",
    "<ol>\n",
    "    <li><code>range(-10, -100)</code> – цикла не будет</li>\n",
    "    <li><code>for a in range(-5, 5):\n",
    "    print(a)</code></li>\n",
    "</ol>\n",
    "<b>Пример №4</b>\n",
    "Вывести числа от -3 до 5."
   ]
  },
  {
   "cell_type": "code",
   "execution_count": 8,
   "metadata": {},
   "outputs": [
    {
     "name": "stdout",
     "output_type": "stream",
     "text": [
      "-3\n",
      "-2\n",
      "-1\n",
      "0\n",
      "1\n",
      "2\n",
      "3\n",
      "4\n",
      "5\n"
     ]
    }
   ],
   "source": [
    "for i in range(-3,6):\n",
    "    print(i)"
   ]
  },
  {
   "cell_type": "markdown",
   "metadata": {},
   "source": [
    "<b>Пример №5:</b> Умножить числа деляшиеся на 5 от -10 до 10"
   ]
  },
  {
   "cell_type": "code",
   "execution_count": 9,
   "metadata": {},
   "outputs": [
    {
     "name": "stdout",
     "output_type": "stream",
     "text": [
      "0\n"
     ]
    }
   ],
   "source": [
    "mul = 1\n",
    "for i in range(-10,11):\n",
    "    if i%5==0:\n",
    "        mul*=i\n",
    "print(mul)"
   ]
  },
  {
   "attachments": {},
   "cell_type": "markdown",
   "metadata": {},
   "source": [
    "<h3>Функция диапазона <code>range(a, b, c)</code> - с тремя параметрами</h3>\n",
    "range(a, b, c) – диапазон от a до b, с шагом c, где a, b и c целые числа.<br>\n",
    "Если a больше b то c меньше 0, если a меньше b то c больше 0, в противном случае цикла не будет.<br>\n",
    "<ol>\n",
    "\t<li><code>for a in range(10, 50, 5):\n",
    "    print(a)</code></li>\n",
    "\t<li><code>for a in range(50, 10, 5): #Нет цикла\n",
    "    print(a)</code></li>\n",
    "\t<li><code>for a in range(10, 50, -10): #Нет цикла\n",
    "    print(a)</code></li>\n",
    "</ol>\n",
    "<br>\n",
    "<b>Пример №6:</b> Вывести числа которые делятся на 3 от -4 до 10."
   ]
  },
  {
   "cell_type": "code",
   "execution_count": 10,
   "metadata": {},
   "outputs": [
    {
     "name": "stdout",
     "output_type": "stream",
     "text": [
      "-3\n",
      "0\n",
      "3\n",
      "6\n",
      "9\n"
     ]
    }
   ],
   "source": [
    "for i in range(-3, 10, 3):\n",
    "    print(i)"
   ]
  },
  {
   "cell_type": "markdown",
   "metadata": {},
   "source": [
    "<br><u><i style=\"color:blue\">Задача №1</i></u>: Умножить числа от 1 до n."
   ]
  },
  {
   "cell_type": "code",
   "execution_count": null,
   "metadata": {},
   "outputs": [],
   "source": []
  },
  {
   "cell_type": "markdown",
   "metadata": {},
   "source": [
    "<br><u><i style=\"color:blue\">Задача №2</i></u>: Умножить числа деляшиеся на 3 и не деляшиеся на 5 от 1 до n."
   ]
  },
  {
   "cell_type": "code",
   "execution_count": null,
   "metadata": {},
   "outputs": [],
   "source": []
  },
  {
   "cell_type": "markdown",
   "metadata": {},
   "source": [
    "<br><u><i style=\"color:blue\">Задача №3</i></u>: Вывести сумму чисел от m до n. Тут не известно которая из них больше"
   ]
  },
  {
   "cell_type": "code",
   "execution_count": null,
   "metadata": {},
   "outputs": [],
   "source": []
  },
  {
   "cell_type": "markdown",
   "metadata": {},
   "source": [
    "<br><u><i style=\"color:blue\">Задача №4</i></u>: Ввести сумму положительных чисел от m до n. Тут не известно которая из них больше"
   ]
  },
  {
   "cell_type": "code",
   "execution_count": null,
   "metadata": {},
   "outputs": [],
   "source": []
  }
 ],
 "metadata": {
  "kernelspec": {
   "display_name": "Python 3",
   "language": "python",
   "name": "python3"
  },
  "language_info": {
   "codemirror_mode": {
    "name": "ipython",
    "version": 3
   },
   "file_extension": ".py",
   "mimetype": "text/x-python",
   "name": "python",
   "nbconvert_exporter": "python",
   "pygments_lexer": "ipython3",
   "version": "3.7.0"
  }
 },
 "nbformat": 4,
 "nbformat_minor": 2
}
