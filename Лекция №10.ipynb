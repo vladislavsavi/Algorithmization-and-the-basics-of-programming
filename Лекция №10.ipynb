{
 "cells": [
  {
   "attachments": {},
   "cell_type": "markdown",
   "metadata": {},
   "source": [
    "<h1>Лямбда функция</h1>\n",
    "Вид функции которую можно использовать как значение.<br>\n",
    "Еще yазывают однастрочным.<br>\n",
    "Обязательно имеет параметр.<br>\n",
    "Выражение может иметь логическое окончание как <code>print()</code> или же действие после которой остается значение(это иметация <code>return</code>).<br><br>\n",
    "\n",
    "Создаются с помощью ключевого слова lambda:<br>\n",
    "<b>Синтксис</b>:<br>\n",
    "<code>lambda параметр1, параметр2,…: выражение</code>\n",
    "\n",
    "<h3>Вызов лямбда функции</h3>\n",
    "Есть два способа:<br>\n",
    "<ul>\n",
    "    <li>На прямую:<br>\n",
    "        <code>(lambda параметр1, параметр2,…: выражение)(параметр1, параметр2,…)</code><br>\n",
    "        <b>Пример:</b><br>\n",
    "        <code>(lambda a,b: print(a-b))(10,20)\n",
    "            print((lambda a,b: a-b)(10,20))</code></li>\n",
    "    <li>Через переменную:<br>\n",
    "        <code>переменная = lambda параметр1, параметр2,…: выражение\n",
    "a(параметр1, параметр2,…)</code><br>\n",
    "        <b>Пример</b><br>\n",
    "    <code>x = lambda a,b: print(a-b)\n",
    "x(10,20)\n",
    "y = lambda a,b: a-b\n",
    "print(y(10,20))</code></li>\n",
    "</ul>"
   ]
  },
  {
   "cell_type": "markdown",
   "metadata": {},
   "source": [
    "<br><u><i style=\"color:blue\">Задача №1</i></u>: Написать лямбда функцию, которая суммирует два числа"
   ]
  },
  {
   "cell_type": "code",
   "execution_count": null,
   "metadata": {},
   "outputs": [],
   "source": []
  },
  {
   "cell_type": "markdown",
   "metadata": {},
   "source": [
    "<br><u><i style=\"color:blue\">Задача №2</i></u>: Написать лямбда функцию, которая умножает два числа"
   ]
  },
  {
   "cell_type": "code",
   "execution_count": null,
   "metadata": {},
   "outputs": [],
   "source": []
  },
  {
   "cell_type": "markdown",
   "metadata": {},
   "source": [
    "<br><u><i style=\"color:blue\">Задача №3</i></u>: Написать лямбда функцию, которая суммирует элементы списка."
   ]
  },
  {
   "cell_type": "code",
   "execution_count": null,
   "metadata": {},
   "outputs": [],
   "source": []
  },
  {
   "cell_type": "markdown",
   "metadata": {},
   "source": [
    "<br><u><i style=\"color:blue\">Задача №4</i></u>: Написать лямбда функцию, умножает элементы списка"
   ]
  },
  {
   "cell_type": "code",
   "execution_count": null,
   "metadata": {},
   "outputs": [],
   "source": []
  },
  {
   "attachments": {},
   "cell_type": "markdown",
   "metadata": {},
   "source": [
    "<h3>Тенарный опретор или однастрочное выражение <code>if/else</code></h3>\n",
    "<b>Синтаксис:</b><br>\n",
    "<code>выражение1 if условие else выражение2</code>\n",
    "\n",
    "<b>Тоже самое что:</b><br>\n",
    "<code>if условие:\n",
    "    выражение1\n",
    "else:\n",
    "    выражение2</code><br><br>\n",
    "\n",
    "<b>Пример:</b><br>\n",
    "<code>a = int(input())\n",
    "print(\"equal to 10\") if a==10 else print(\"not equal to 10\")</code><br><br>\n",
    "\n",
    "Или же можно сразу вернуть значение:<br>\n",
    "<code>a = int(input())\n",
    "b = \"equal to 10\" if a==10 else \"not equal to 10\"\n",
    "print(b)</code><br><br>\n",
    "\n",
    "<b>Пример с вложенным тернарным оператором:</b><br>\n",
    "<code>a = int(input())\n",
    "b = a\n",
    "if a>0:\n",
    "    if a%2==0:\n",
    "        b = a**2\n",
    "    else:\n",
    "        b = a**3\n",
    "else:\n",
    "    if a%2==0:\n",
    "        b = a**4\n",
    "    else:\n",
    "        b = a\n",
    "print(b)</code>\n",
    "\n",
    "<code>a = int(input())\n",
    "b = lambda a**2 if a%2==0 else a**3 if a>0 else a**4 if a%2==0 else a\n",
    "print(b)</code><br><br>\n",
    "\n",
    "<b>Пример:</b><br>\n",
    "Найти сумму четных в списке.<br>"
   ]
  },
  {
   "cell_type": "code",
   "execution_count": 7,
   "metadata": {},
   "outputs": [
    {
     "name": "stdout",
     "output_type": "stream",
     "text": [
      "[2, -40, 83, 18, -3, 51, -70, -33, 16, -33] -74\n"
     ]
    }
   ],
   "source": [
    "import random\n",
    "x = [random.randint(-100,100) for i in range(10)]\n",
    "s = lambda a: sum([i for i in a if i%2==0])\n",
    "print(x, s(x))"
   ]
  },
  {
   "cell_type": "markdown",
   "metadata": {},
   "source": [
    "<b>Пример:</b><br>\n",
    "Найти отрицательные числа из списка"
   ]
  },
  {
   "cell_type": "code",
   "execution_count": 8,
   "metadata": {},
   "outputs": [
    {
     "name": "stdout",
     "output_type": "stream",
     "text": [
      "[-62, -10, -18]\n"
     ]
    }
   ],
   "source": [
    "import random\n",
    "x = [random.randint(-100,100) for i in range(10)]\n",
    "s = lambda a: [i for i in a if i<0]\n",
    "print(s(x))"
   ]
  },
  {
   "cell_type": "markdown",
   "metadata": {},
   "source": [
    "<br><u><i style=\"color:blue\">Задача №5</i></u>: Написать функцию, которая принимает две строки как параметры, которая сравнивает количество гласных букв."
   ]
  },
  {
   "cell_type": "code",
   "execution_count": null,
   "metadata": {},
   "outputs": [],
   "source": []
  },
  {
   "cell_type": "markdown",
   "metadata": {},
   "source": [
    "<br><u><i style=\"color:blue\">Задача №6</i></u>: Написать функцию, которая не принимает никакого параметра, которая распечатает четные числа от 1 до 20."
   ]
  },
  {
   "cell_type": "code",
   "execution_count": null,
   "metadata": {},
   "outputs": [],
   "source": []
  },
  {
   "cell_type": "markdown",
   "metadata": {},
   "source": [
    "<br><u><i style=\"color:blue\">Задача №7</i></u>: Написать функцию, которая принимает список из чисел и которая возврашает сумму четных чисел."
   ]
  },
  {
   "cell_type": "code",
   "execution_count": null,
   "metadata": {},
   "outputs": [],
   "source": []
  },
  {
   "cell_type": "markdown",
   "metadata": {},
   "source": [
    "<br><u><i style=\"color:blue\">Задача №8</i></u>: Написать функцию, которая  принимает список из словарей. Каждый словарь это информация о человеке. словарь: Name, Age, email, salary. Найти самый возрастного человека. Найти среднюю зарплату."
   ]
  },
  {
   "cell_type": "code",
   "execution_count": null,
   "metadata": {},
   "outputs": [],
   "source": []
  },
  {
   "cell_type": "markdown",
   "metadata": {},
   "source": [
    "<br><u><i style=\"color:blue\">Задача №9</i></u>: Написать функцию, которая  принимает строку, данная строка это ссылка к текствому файлу. Данная функция читает этот файл и выводит количество слов."
   ]
  },
  {
   "cell_type": "code",
   "execution_count": null,
   "metadata": {},
   "outputs": [],
   "source": []
  },
  {
   "cell_type": "markdown",
   "metadata": {},
   "source": [
    "<br><u><i style=\"color:blue\">Задача №10</i></u>: Написать функцию, которая  принимает строку, данная строка это ссылка к текствому файлу. Данная функция читает этот файл и суммирует числа. Файл хранит числа через пробел."
   ]
  },
  {
   "cell_type": "code",
   "execution_count": null,
   "metadata": {},
   "outputs": [],
   "source": []
  }
 ],
 "metadata": {
  "kernelspec": {
   "display_name": "Python 3",
   "language": "python",
   "name": "python3"
  },
  "language_info": {
   "codemirror_mode": {
    "name": "ipython",
    "version": 3
   },
   "file_extension": ".py",
   "mimetype": "text/x-python",
   "name": "python",
   "nbconvert_exporter": "python",
   "pygments_lexer": "ipython3",
   "version": "3.7.0"
  }
 },
 "nbformat": 4,
 "nbformat_minor": 2
}
