{
 "cells": [
  {
   "cell_type": "markdown",
   "metadata": {},
   "source": [
    "<h1>Словарь - dict()</h1>\n",
    "Вид коллекции где элементы хранятся не под индексом, а под ключом. ключем может быть строка и число<br>\n",
    "<b>Синтаксис</b><br>\n",
    "<code>словарь = {ключ:значение, ...}</code> - значение любой тип данных<br><br>\n",
    "\n",
    "<b>Пример:</b><br>\n",
    "<code>ddd = {'Name': 'Aidyn', 'Age': 29, 10:10, 1.1:3535}\n",
    "print(ddd['Name'])\n",
    "print(ddd[10])\n",
    "print(ddd[1.1])</code><br>\n",
    "\n",
    "<h3>Другие способы создание словаря</h3>\n",
    "Функция dict() позвоялет создавать словарь из пар картежей в списке: <code>словарь = dict([(ключ,значение), (ключ,значение), (ключ,значение), ...])</code>.<br>\n",
    "<b>Пример:</b><br>\n",
    "<code>d = dict([('name','Aidyn'), ('age', 29), (1,2)])</code><br><br>\n",
    "Функция dict() позвоялет создавать словарь с помощью функции zip(список1, список2): <code>словарь = dict(zip(список1, список2))</code>. Функция zip() - создает список из пар картежей, если количество элементов разные у списков, то создает новый список по наименшей длине.<br>\n",
    "<b>Пример:</b><br>\n",
    "<code>a = [1,2,3]\n",
    "b = ['a','b','c','d']\n",
    "d = dict(zip(a,b)) # {1: 'a', 2: 'b', 3: 'c'}\n",
    "d = dict(zip(b,a)) # {'a': 1, 'b': 2, 'c': 3}</code><br><br>\n",
    "\n",
    "<h3>Обращение к элементам словаря</h3>\n",
    "Обратиться к элементам можно так же как и в списке, но указывается не индекс, а ключ.<br>\n",
    "<b>Пример:</b><br>\n",
    "<code>a = {1:2, 'a':10, 'b': [1,2,3]}\n",
    "print(a['b'])</code><br><br>\n",
    "\n",
    "len(словарь) - возврашает количество ключей в словаре<br>\n",
    "Изменяются старые значения  так же как и в списке, вместо индекса указав ключ. Если окажется так что ключа нет, то он создаст такой ключ.<br>\n",
    "<b>Пример:</b><br>\n",
    "<code>a['a'] = {1:2,3:5}</code><br><br>\n",
    "\n",
    "<code>del словарь</code> - удаляет весь словарь из кода<br>\n",
    "<code>словарь.clear()</code> - очищает весь словарь от ключей и значений<br>\n",
    "<code>del словарь[ключ]</code> - удаляет элемент под ключом<br><br>\n",
    "\n",
    "По ключам словаря можно пробижаться с помощью цикла <code>for</code><br>\n",
    "<b>Пример:</b><br>\n",
    "<code>for i in a:\n",
    "    print(i, a[i])</code><br><br>\n",
    "\n",
    "<h3>Функций словаря</h3>\n",
    "<code>ddd.has_key(ключ)</code> – проверяет имеется ли данный ключ в словаре<br>\n",
    "<code>ddd.keys()</code> – вывод всех ключей словаря в виде списка<br>\n",
    "<b>Пример:</b><br>\n",
    "<code>for x in ddd.keys():\n",
    "    print(x, ddd[x])</code><br><br>\n",
    "    \n",
    "<code>ddd.keys()</code> – вывод значений словаря в виде списке<br>\n",
    "<b>Пример:</b><br>\n",
    "<code>for x in ddd.values():\n",
    "    print(x)</code><br><br>\n",
    "\n",
    "<b><i style=\"color:blue\">Заключение</i></b><br>\n",
    "Только set(данный вид коллекций пройдете на след лекций) не может иметь в себе другие коллекций, но все остальные могут в себе хранить любой тип.<br>\n",
    "Перевод с одного типа коллекции в другой:\n",
    "<code>list()\n",
    "tuple()\n",
    "dict()\n",
    "set() #Пройдем на следующих лекциях\n",
    "str() #Пройдем на следующих лекциях</code><br>\n",
    "Способ автозаполнения так же работает для словарей, только нужно через <code>:</code> указывать ключ и значение<br>\n",
    "<b>Пример:</b>\n",
    "<code>\n",
    "a = {i:i+10 for i in range(3)}</code>"
   ]
  },
  {
   "cell_type": "markdown",
   "metadata": {},
   "source": [
    "<br><u><i style=\"color:blue\">Задача №1</i></u>: Создать словарь где ключи это числа от 1 до 10-ти, а значения их квадраты."
   ]
  },
  {
   "cell_type": "code",
   "execution_count": null,
   "metadata": {},
   "outputs": [],
   "source": []
  },
  {
   "cell_type": "markdown",
   "metadata": {},
   "source": [
    "<br><u><i style=\"color:blue\">Задача №2</i></u>: Создать словарь где ключи это числа от 1 до 10-ти, а значения это список из 1 в количестве ключа(<code>1:[1], 2:[1,1]</code>)"
   ]
  },
  {
   "cell_type": "code",
   "execution_count": null,
   "metadata": {},
   "outputs": [],
   "source": []
  },
  {
   "cell_type": "markdown",
   "metadata": {},
   "source": [
    "<br><u><i style=\"color:blue\">Задача №10</i></u>: Создать словарь где ключи это числа от 1 до 10-ти, а значения это случайно сгенирированные целые числа из промежутка $[-100,100]$."
   ]
  },
  {
   "cell_type": "code",
   "execution_count": null,
   "metadata": {},
   "outputs": [],
   "source": []
  },
  {
   "cell_type": "markdown",
   "metadata": {},
   "source": [
    "<br><u><i style=\"color:blue\">Задача №10</i></u>: Создать словарь где ключи это числа от 1 до 10-ти, а значения это случайные действительные числа из диапазона $[-5.5, 5.5]$."
   ]
  },
  {
   "cell_type": "code",
   "execution_count": null,
   "metadata": {},
   "outputs": [],
   "source": []
  },
  {
   "cell_type": "markdown",
   "metadata": {},
   "source": [
    "<br><u><i style=\"color:blue\">Задача №10</i></u>: Создать словарь где ключи это числа от 1 до 10-ти, а значения это список с количеством элементов как ключ,  элементы списка это случайные целые числа из диапазона $[-100,100]$."
   ]
  },
  {
   "cell_type": "code",
   "execution_count": null,
   "metadata": {},
   "outputs": [],
   "source": []
  }
 ],
 "metadata": {
  "kernelspec": {
   "display_name": "Python 3",
   "language": "python",
   "name": "python3"
  },
  "language_info": {
   "codemirror_mode": {
    "name": "ipython",
    "version": 3
   },
   "file_extension": ".py",
   "mimetype": "text/x-python",
   "name": "python",
   "nbconvert_exporter": "python",
   "pygments_lexer": "ipython3",
   "version": "3.7.0"
  }
 },
 "nbformat": 4,
 "nbformat_minor": 2
}
