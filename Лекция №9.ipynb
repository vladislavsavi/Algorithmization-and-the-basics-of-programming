{
 "cells": [
  {
   "cell_type": "markdown",
   "metadata": {},
   "source": [
    "<h1>Функция</h1>\n",
    "<b>Функция</b> - Блок кода вызываемая в другой части кода. Нужна для того чтобы части кода не повторялись.<br><br>\n",
    "<i style=\"color:red\">Обратите внимание на табуляцию. Она тоже самое что и в if-elif-else и в циклах.</i><br>\n",
    "\n",
    "<h3>Простая функция без параметров и не возвращающая значение</h3>\n",
    "<b>Синтаксис</b>:<br>\n",
    "\n",
    "<code>def название_функции():\n",
    "    действие</code><br>\n",
    "    \n",
    "<b>Пример:</b> Вывести числа от 1 до 10<br>\n",
    "<code>def print1to10():\n",
    "    a = 1\n",
    "    while a</code>$<=$<code>10:\n",
    "        print(a)\n",
    "        a+=1\n",
    "print1to10()</code><br><br>\n",
    "\n",
    "\n",
    "<h3>Функция с параметрами и не возвращающая значение</h3>\n",
    "<b>Синтаксис</b>:<br>\n",
    "\n",
    "<code>def название_функции(параметр1,…):\n",
    "    выражения</code><br>\n",
    "\n",
    "<b>Пример:</b> Вывести числа от 1 до n<br>\n",
    "<code>def print1ton(n):\n",
    "    a = 1\n",
    "    while a</code>$<=$<code>n:\n",
    "        print(a)\n",
    "        a+=1\n",
    "        n = int(input())\n",
    "print1ton(n)</code><br><br>\n",
    "\n",
    "\n",
    "<h3>Функция без параметров и возвращающая значение</h3>\n",
    "<b>Синтаксис</b>:<br>\n",
    "\n",
    "<code>def название_функции():\n",
    "    выражения\n",
    "    return значение</code><br>\n",
    "\n",
    "<b>Пример:</b> Вывести количество чисел которые делятся на 3 от 1 до 100<br>\n",
    "<code>def count1to100():\n",
    "    a = 1\n",
    "    count = 0\n",
    "    while a</code>$<=$<code>100:\n",
    "        if a%3==0:\n",
    "        count+=1\n",
    "        a+=1\n",
    "    return count\n",
    "print(count1to100())</code><br><br>\n",
    "\n",
    "\n",
    "<h3>Функция с параметрами и возвращающая значение</h3>\n",
    "<b>Синтаксис</b>:<br>\n",
    "\n",
    "<code>def название_функции(параметр1, …):\n",
    "    выражения\n",
    "    return значение</code><br>\n",
    "\n",
    "<b>Пример:</b> Вывести количество чисел которые делятся на 3 от 1 до n<br>\n",
    "<code>def count1ton(n):\n",
    "    a = 1\n",
    "    count = 0\n",
    "    n = int(input())\n",
    "    while a</code>$<=$<code>n:\n",
    "        if a%3==0:\n",
    "        count+=1\n",
    "        a+=1\n",
    "    return count\n",
    "print(count1to100(n))</code><br><br>\n",
    "\n",
    "<h3>Локальная и глобальная переменная</h3>\n",
    "<b>Локальные переменные</b> – только внутри области функций; Не видны извне, то есть к их значениям нет доступа и нельзя менять старые значения\n",
    "<b>Глобальные переменные(ключевое слово <code>global</code>)</b> – полный доступ извне, то есть можно менять старые значения и обращаться к ним извне.<br>\n",
    "\n",
    "<b>Пример:</b> Переменная <code>a</code> внешняя для функции <code>printnewA()</code> будет глобальной и будет доступна. Переменная <code>b</code> внешняя для <code>printnewA()</code> не будет доступна, чтобы код сработал удалите <code>b</code>.<br>\n",
    "<code>a = 1\n",
    "b = 10\n",
    "def printnewA():\n",
    "    global a\n",
    "    a+=1\n",
    "    b += 20\n",
    "    return a\n",
    "print(printnewA())\n",
    "print(printnewA())\n",
    "print(printnewA())\n",
    "print(printnewA())</code>"
   ]
  },
  {
   "cell_type": "markdown",
   "metadata": {},
   "source": [
    "<br><u><i style=\"color:blue\">Задача №1</i></u>: Написать функцию, которая не принимает никакого параметра, которая распечатает четные числа от 1 до 20."
   ]
  },
  {
   "cell_type": "code",
   "execution_count": null,
   "metadata": {},
   "outputs": [],
   "source": []
  },
  {
   "cell_type": "markdown",
   "metadata": {},
   "source": [
    "<br><u><i style=\"color:blue\">Задача №2</i></u>: Написать функцию, которая принимает две строки как параметры, которая сравнивает количество гласных букв."
   ]
  },
  {
   "cell_type": "code",
   "execution_count": null,
   "metadata": {},
   "outputs": [],
   "source": []
  },
  {
   "cell_type": "markdown",
   "metadata": {},
   "source": [
    "<br><u><i style=\"color:blue\">Задача №3</i></u>: Написать функцию, которая принимает список из чисел и которая возврашает сумму четных чисел."
   ]
  },
  {
   "cell_type": "code",
   "execution_count": null,
   "metadata": {},
   "outputs": [],
   "source": []
  },
  {
   "cell_type": "markdown",
   "metadata": {},
   "source": [
    "<br><u><i style=\"color:blue\">Задача №4</i></u>: Написать функцию, которая  принимает список из словарей. Каждый словарь это информация о человеке. словарь: Name, Age, email, salary. Найти самый возрастного человека. Найти среднюю зарплату."
   ]
  },
  {
   "cell_type": "code",
   "execution_count": null,
   "metadata": {},
   "outputs": [],
   "source": []
  },
  {
   "cell_type": "markdown",
   "metadata": {},
   "source": [
    "<br><u><i style=\"color:blue\">Задача №5</i></u>: Написать функцию, которая  принимает строку, данная строка это ссылка к текствому файлу. Данная функция читает этот файл и выводит количество слов."
   ]
  },
  {
   "cell_type": "code",
   "execution_count": null,
   "metadata": {},
   "outputs": [],
   "source": []
  },
  {
   "cell_type": "markdown",
   "metadata": {},
   "source": [
    "<h3>Встроенные функций</h3>\n",
    "<code>abs(x)</code> – математическое абсолютное значение<br>\n",
    "<b>Пример:</b><br>\n",
    "<code>x = -10\n",
    "print(abs(x))</code><br><br>\n",
    "\n",
    "<code>all(коллекция)</code> – проверяет все ли значения в коллекций True<br>\n",
    "<b>Пример:</b><br>\n",
    "<code>print(all([True, False, True, True, True])) #False\n",
    "print(all([True, True, True, True, True])) #True</code><br><br>\n",
    "\n",
    "<code>any(коллекция)</code> – проверяет, есть ли хотябы одно значение True<br>\n",
    "<b>Пример:</b><br>\n",
    "<code>print(any([False, False, False, False, False])) #False\n",
    "print(any([True, False, True, False, True])) #True</code><br><br>\n",
    "\n",
    "<code>chr(i)</code> – возвращает символ под номером  i в ASCII, i цело число из $[0, 255]$<br>\n",
    "<b>Пример:</b><br>\n",
    "<code>print(chr(97))</code><br><br>\n",
    "\n",
    "<code>ord(строка из одного символа)</code> – возвращает номер символа в ASCII<br>\n",
    "<b>Пример:</b><br>\n",
    "<code>print(\"A\")</code><br><br>\n",
    "\n",
    "<code>float(x)</code> – переводит целое число или строку в действительное число<br>\n",
    "<b>Пример:</b><br>\n",
    "<code>print(float(\"1234.42\"))\n",
    "print(float(10))</code><br><br>\n",
    "\n",
    "<code>int(x)</code> – переводит действительное число или строку в целое число<br>\n",
    "<b>Пример:</b><br>\n",
    "<code>print(int(\"235\"))\n",
    "print(int(53535.33))</code><br><br>\n",
    "\n",
    "<code>input(подсказка)</code> – Ввод строки из командной строки<br>\n",
    "<b>Пример:</b><br>\n",
    "<code>print(input(\"Ввести строку\"))</code><br><br>\n",
    "\n",
    "<code>len(коллекция или строка)</code> – длина строки или коллекции<br>\n",
    "<b>Пример:</b><br>\n",
    "<code>print(len([2345,353253,3535.53,3535]))\n",
    "print(len(\"fsadfasdfa sdfas dfasdf\"))\n",
    "print(len({535,352,535,253,5353}))\n",
    "print(len((53,52,53,2,64,6)))</code><br><br>\n",
    "\n",
    "<code>max(коллекция)</code> – максимальное значение коллекции<br>\n",
    "<b>Пример:</b><br>\n",
    "<code>print(max([\"dfsdf\",\"dfdf\",'fdf']))\n",
    "print(max([3523,5352,35,352,3,5,352,35]))</code><br><br>\n",
    "\n",
    "min(коллекция) – минимальное значение коллекции<br>\n",
    "<b>Пример:</b><br>\n",
    "<code>print(min([\"dfsdf\",\"dfdf\",'fdf']))\n",
    "print(min([3523,5352,35,352,3,5,352,35]))</code><br><br>\n",
    "    \n",
    "pow(x, y) – x$**$y, или math.pow(x,y)<br>\n",
    "<b>Пример:</b><br>\n",
    "<code>print(pow(2,10))</code><br><br>\n",
    "    \n",
    "print() – вывод в командную строку<br>\n",
    "<b>Пример:</b><br>\n",
    "<code>print(\"Hello world\")</code><br><br>\n",
    "    \n",
    "reversed(коллекция) – переварачивает коллекцию<br>\n",
    "<b>Пример:</b><br>\n",
    "<code>print(reversed([423,43,4,5,6,7,33])</code><br><br>\n",
    "    \n",
    "round(x) – округление до ближайшего целого числа, при 0.5 до ближайшего четного числа<br>\n",
    "<b>Пример:</b><br>\n",
    "<code>print(round(34.5))\n",
    "print(round(34.4))\n",
    "print(round(3.9))</code><br><br>\n",
    "    \n",
    "set(коллекция) – создает из коллекции математическое множетво<br>\n",
    "<b>Пример:</b><br>\n",
    "<code>print(set([42,254,54,35,56,36,334,254,56,5,35]))</code><br><br>\n",
    "    \n",
    "sorted(коллекция) – сортирует коллекцию<br>\n",
    "<b>Пример:</b><br>\n",
    "<code>print(sorted([42,254,54,35,56,36,334,254,56,5,35]))</code><br><br>\n",
    "    \n",
    "str(object) – возвращает строку, созданного из объекта<br>\n",
    "<b>Пример:</b><br>\n",
    "<code>print(str(353))\n",
    "print(str(353.53))\n",
    "print(str([355,352,35,35]))\n",
    "print(str((535,352,53,52)))\n",
    "print(str({1:1, 2:4, 3:9}))</code><br><br>\n",
    "    \n",
    "tuple(коллекция) – возвращает tuple, созданного из коллекции<br>\n",
    "<b>Пример:</b><br>\n",
    "<code>print(tuple([242,24,241,4,42,1]))</code><br><br>\n",
    "    \n",
    "list(коллекция) – возвращает список, созданного из коллекции<br>\n",
    "<b>Пример:</b><br>\n",
    "<code>print(list((35,352,35)))\n",
    "print(list(\"dfdfw2efswdf\"))</code><br><br>"
   ]
  },
  {
   "cell_type": "markdown",
   "metadata": {},
   "source": [
    "<br><u><i style=\"color:blue\">Задача №6</i></u>: Создать список из 20 случайных чисел из промежутка $[-100,100]$. Проверить все ли числа больше <code>0</code>, c помощью с функцией <code>all()</code>"
   ]
  },
  {
   "cell_type": "code",
   "execution_count": null,
   "metadata": {},
   "outputs": [],
   "source": []
  },
  {
   "cell_type": "markdown",
   "metadata": {},
   "source": [
    "<br><u><i style=\"color:blue\">Задача №7</i></u>: Создать список из 20 случайных чисел из промежутка $[-100,100]$. Проверить есть ли числа больше <code>0</code>, c помощью с функцией <code>any()</code>"
   ]
  },
  {
   "cell_type": "code",
   "execution_count": null,
   "metadata": {},
   "outputs": [],
   "source": []
  },
  {
   "cell_type": "markdown",
   "metadata": {},
   "source": [
    "<h3>Рекурсия</h3>\n",
    "<b>Рекурсивные функций</b> - функций которые вызывают самого себя.<br>\n",
    "<b>Пример:</b><br>\n",
    "<ul>\n",
    "    <li>Фибоначи</li>\n",
    "    <li>Арифметическая прогрессия</li>\n",
    "    <li>Геометрическая прогрессия</li>\n",
    "    <li>Числовые последовательности</li>\n",
    "</ul>\n",
    "\n",
    "<b>Пример:</b> Числа Фибоначи"
   ]
  },
  {
   "cell_type": "code",
   "execution_count": 16,
   "metadata": {},
   "outputs": [
    {
     "name": "stdout",
     "output_type": "stream",
     "text": [
      "55\n"
     ]
    }
   ],
   "source": [
    "def fibbonaci(n):\n",
    "    if n==1 or n==2:\n",
    "        return 1\n",
    "    else:\n",
    "        x = fibbonaci(n-1)+fibbonaci(n-2)\n",
    "    return x\n",
    "print(fibbonaci(10))"
   ]
  },
  {
   "cell_type": "markdown",
   "metadata": {},
   "source": [
    "<b>Пример:</b> Степень числа"
   ]
  },
  {
   "cell_type": "code",
   "execution_count": 9,
   "metadata": {},
   "outputs": [
    {
     "name": "stdout",
     "output_type": "stream",
     "text": [
      "1024\n"
     ]
    }
   ],
   "source": [
    "def run1ton(n,m):\n",
    "    if n==0:\n",
    "        return 1\n",
    "    else:\n",
    "        return run1ton(n-1,m)*m\n",
    "print(run1ton(10,2))"
   ]
  },
  {
   "cell_type": "markdown",
   "metadata": {},
   "source": [
    "<b>Пример:</b> Умножение двух чисел"
   ]
  },
  {
   "cell_type": "code",
   "execution_count": 13,
   "metadata": {},
   "outputs": [
    {
     "name": "stdout",
     "output_type": "stream",
     "text": [
      "28\n"
     ]
    }
   ],
   "source": [
    "def run1ton(n,m):\n",
    "    if n==0:\n",
    "        return 0\n",
    "    else:\n",
    "        return run1ton(n-1,m)+m\n",
    "print(run1ton(4,7))"
   ]
  },
  {
   "cell_type": "markdown",
   "metadata": {},
   "source": [
    "<b>Пример:</b> Сумма от целых чисел от 1 до n"
   ]
  },
  {
   "cell_type": "code",
   "execution_count": 15,
   "metadata": {},
   "outputs": [
    {
     "name": "stdout",
     "output_type": "stream",
     "text": [
      "55\n"
     ]
    }
   ],
   "source": [
    "def sum(n):\n",
    "    if n==0:\n",
    "        return 0\n",
    "    else:\n",
    "        return sum(n-1)+n\n",
    "print(sum(10))"
   ]
  },
  {
   "cell_type": "markdown",
   "metadata": {},
   "source": [
    "<br><u><i style=\"color:blue\">Задача №8</i></u>: Найти максимальное число в списке используя рекурсию."
   ]
  },
  {
   "cell_type": "code",
   "execution_count": null,
   "metadata": {},
   "outputs": [],
   "source": []
  },
  {
   "cell_type": "markdown",
   "metadata": {},
   "source": [
    "<br><u><i style=\"color:blue\">Задача №9</i></u>: Найти сумму четных чисел в списке с помошщью рекурсии."
   ]
  },
  {
   "cell_type": "code",
   "execution_count": null,
   "metadata": {},
   "outputs": [],
   "source": []
  },
  {
   "cell_type": "markdown",
   "metadata": {},
   "source": [
    "<br><u><i style=\"color:blue\">Задача №10</i></u>: Найти и просуммировать цифры в строке используя рекурсию."
   ]
  },
  {
   "cell_type": "code",
   "execution_count": null,
   "metadata": {},
   "outputs": [],
   "source": []
  }
 ],
 "metadata": {
  "kernelspec": {
   "display_name": "Python 3",
   "language": "python",
   "name": "python3"
  },
  "language_info": {
   "codemirror_mode": {
    "name": "ipython",
    "version": 3
   },
   "file_extension": ".py",
   "mimetype": "text/x-python",
   "name": "python",
   "nbconvert_exporter": "python",
   "pygments_lexer": "ipython3",
   "version": "3.7.0"
  }
 },
 "nbformat": 4,
 "nbformat_minor": 2
}
