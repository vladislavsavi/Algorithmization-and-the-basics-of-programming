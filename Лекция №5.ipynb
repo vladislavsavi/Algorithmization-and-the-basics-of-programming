{
 "cells": [
  {
   "cell_type": "markdown",
   "metadata": {},
   "source": [
    "<h1>Коллекций</h1>\n",
    "<b>Коллекций</b> - тип данных для хранения несколько значений в одной переменной.<br>\n",
    "Python имеет 4 основных видов коллекций:\n",
    "<ul>\n",
    "<li>set – математическое множество</li>\n",
    "<li>list – список</li>\n",
    "<li>dictionary – словарь</li>\n",
    "<li>tuple – не изменяемый список</li>\n",
    "</ul>\n",
    "\n",
    "<h3>Списки - <code>list()</code></h3>\n",
    "\n",
    "$[ ]$ - списки указваются с помощью квадратных скобок, с помощью запятого знака разделяются.<br>\n",
    "<code>a = []</code> – пустой список<br>\n",
    "<code>a = list()</code> – пустой список<br>\n",
    "Элементы в любом виде коллекций не могут быть бесконечными.<br>\n",
    "Список может хранить в себе любой тип данных в перемежку: <code>a = [1, True, False, 1.1]</code><br><br>\n",
    "\n",
    "Список из натуральных чисел: <code>a = [1,2,3,4,1,1,1,5]</code><br>\n",
    "Список из целых чисел: <code>a = [1,-2, 0, 10, 1000]</code><br>\n",
    "Список из действительнх чисел: <code>a = [1, 1.1, 2.2, 0.4, -0.3]</code><br>\n",
    "Список из действительнх чисел: <code>a = list(1, 1.1, 2.2, 0.4,-0.3)</code><br>\n",
    "<code>print(a)</code> -> вывод списка\n",
    "\n",
    "<b>Обращение к элементам списка</b><br>\n",
    "<code>a = [1,2,3,4,5]</code><br>\n",
    "Каждый элемент проиндексирован начиная с нуля, но не разрешается индексы больше или равно длины списка<br>\n",
    "<code>a[0] = 1\n",
    "a[1] = 2\n",
    "a[2] = 3\n",
    "a[3] = 4\n",
    "a[4] = 5\n",
    "a[-1] = 5\n",
    "a[5]</code><br><br>\n",
    "\n",
    "Но разрешается отрицательная индексация в промежутке: $[-1: -длина]$, в данном случае:\n",
    "<code>a[-1] = a[4]\n",
    "a[-2] = a[3]\n",
    "a[-3] = a[2]\n",
    "a[-4] = a[1]\n",
    "a[-5] = a[0]</code><br><br>\n",
    "\n",
    "<b><code>len(название_списка)</code></b> - возвращает длину списка (количество элементов).<br><br>\n",
    "\n",
    "Для изменения значения элемента в списке:<br>\n",
    "<code>a[0] = 10\n",
    "a[0] = 1.1</code>, так же тип старого значения могут отличатся от нового.<br><br>\n",
    "\n",
    "<b>Изятие куска списка:</b><br>\n",
    "<code>список[a:b]</code> – от индекса a до индекса b (a$<$b, b не включительно)<br>\n",
    "<code>print(a[2:4])</code><br>\n",
    "<code>список[a:b:c]</code> – от индекса a до индекса b (b не включительно) с шагом c, c может быть отрицательным при a$>$b.<br>\n",
    "<code>print(a[0:4:2])</code><br><br>\n",
    "\n",
    "<h3>Цикл и списки</h3>\n",
    "Цикл for предназначена для прогона по элементам коллекций и дистанций чисел.<br>\n",
    "Использовать for в списках можно двумя способами:<br>\n",
    "<ol>\n",
    "    <li>с помощью функций <code>range(a)</code> сгенирировать дистанцию ииндексов:<br>\n",
    "<code>a = [1,2,3]\n",
    "for i in range(len(a)):\n",
    "    print(a[i])</code></li>\n",
    "<li>так же на прямую обращаться к элементам через итерацию:<br>\n",
    "<code>a = [1,2,3]\n",
    "for x in a:\n",
    "    print(a)</code></li>\n",
    "    <li>или же по индексам можно пробигаться используя цикл <code>while</code>:<br>\n",
    "<code>a = [1,2,3]\n",
    "i = 0\n",
    "while i</code>$<$<code>len(a):\n",
    "    print(a[i])</code></li>\n",
    "</ol>\n",
    "Первый и третий способ используют в случае если нужны индексы элементов.<br><br>\n",
    "\n",
    "<h3>Многоуровневые списки</h3>\n",
    "Python не имеет ограничений в уровнях списков.<br>\n",
    "\n",
    "Как говорилось раньше списки могут хранить любой тип данных, так же и список внутри другого списка.<br>\n",
    "\n",
    "<code>a = [1,2, [1,2,3, [True, False], True, 1.1], 1, 2, 3, 2, 3]</code>\n",
    "<br><br>\n",
    "\n",
    "<b>Обращение к элементам многоуровневого списка</b><br>\n",
    "<code>a = [1,2, [1,2,3, [True, False], True, 1.1], [1,2,3]]\n",
    "print(a[0])\n",
    "print(a[1])\n",
    "print(a[2])\n",
    "print(a[3])\n",
    "print(a[2][0])\n",
    "print(a[2][1])\n",
    "print(a[2][2])\n",
    "print(a[2][3])\n",
    "print(a[2][3][0])\n",
    "print(a[2][3][1])\n",
    "print(len(a[2][3]))</code><br>\n",
    "\n",
    "<b>Многоуровневые списки и цикл for</b><br>\n",
    "Рассмотрим матрицу:<br>\n",
    "<code>a = [[1,2,3], [11,22,33], [111,222,333]]\n",
    "for x in a: #Первый уровень\n",
    "    for y in x:  # Второй уровень\n",
    "        print(y)\n",
    "</code><br>\n",
    "\n",
    "<b>Авто заполнение списка</b><br>\n",
    "<i>Синтаксис</i>: <code>a = [формула for переменнная in range_или_список]</code><br><br>\n",
    "\n",
    "<code>a = [i</code>$**$<code>2+2</code>$*$<code>i-1 for i in range(10)]\n",
    "print(a)</code><br><br>\n",
    "\n",
    "<h3>Опреаций со списком</h3>\n",
    "<code>+</code> объединяет два списка: <code>список3 = список1+список2</code><br>\n",
    "<b>Пример:</b><br>\n",
    "<code>[1, 2, 3] + [4, 5, 6] -> [1, 2, 3, 4, 5, 6]</code><br><br>\n",
    "\n",
    "$*$ повторяет список несколько раз: <code>список2 = список*n</code><br>\n",
    "<b>Пример:</b><br>\n",
    "<code>['Hi!'] * 4 -> ['Hi!', 'Hi!', 'Hi!', 'Hi!’]</code><br><br>\n",
    "\n",
    "<code>in</code> проверяет есть ли элемент с указанным значением: <code> значение in список</code><br>\n",
    "<b>Пример:</b><br>\n",
    "<code>print(3 in [1, 2, 3])\n",
    "print(4 in [1,2,3])</code><br><br>\n",
    "\n",
    "<h3>Функций списка</h3>\n",
    "<ol>\n",
    "    <li><code>список.append(x)</code> – добавления нового элемента в конец списка, изменяет сам список<br>\n",
    "        <code>a = [1,2,3]\n",
    "a.append(4)\n",
    "print(a)</code>\n",
    "    </li>\n",
    "    <li><code>список.extend(другой список)</code> – расширение другим списком, изменяет сам список<br>\n",
    "        <code>a = [1,2,3]\n",
    "b = [5,6,7]\n",
    "a.extend(b)\n",
    "print(a)</code>\n",
    "    </li>    \n",
    "    <li><code>список.insert(i, x)</code> – Добавление нового элемента в индекс i, изменяет сам список<br>\n",
    "    <code>a = [1,2,3]\n",
    "a.insert(0,5)\n",
    "print(a)</code>\n",
    "    </li>\n",
    "    <li><code>список.remove(x)</code> – удаляет первый элемент слева, изменяет сам список<br>\n",
    "    <code>a = [1,2,3,2,4,2]\n",
    "a.remove(2)\n",
    "print(a)\n",
    "a.remove(4) #ERROR</code>\n",
    "        </li>    \n",
    "    <li><code>список.pop(i)</code> – удаляет элемент в индексе i, если не указан индекс, то удаляется последний элемент, изменяет сам список<br>\n",
    "    <code>a = [1,2,3,4,5,6]\n",
    "a.pop() #Удяляет последний\n",
    "print(a)\n",
    "a.pop(2) #удаляет в индексе 2</code>\n",
    "        </li>\n",
    "        <li><code>список.clear()</code> – очищает список, изменяет сам список<br>\n",
    "    <code>a = [1,2,3]\n",
    "print(a, len(a))\n",
    "a.clear()\n",
    "print(a, len(a))</code></li>\n",
    "        <li><code>список.count(x)</code> – считает количество элементов с значением x<br>\n",
    "    <code>a = [1,2,3,2,2,3]\n",
    "print(a.count(2)</code>\n",
    "        </li>\n",
    "        <li><code>список.sort(reverse=True)</code> – сортирует по возрастанию, если указан reverse=True, то по убыванию. Не ихменяет сам список<br>\n",
    "    <code>a = [1,2,3]\n",
    "print(a.sort())\n",
    "print(a.sort(reverse=True))</code></li>\n",
    "        <li><code>список.reverse()</code> – переварачивает список, не меняет сам список<br>\n",
    "    <code>a = [1,2,3,334,243,23,5,32]\n",
    "print(a.reverse())</code></li>\n",
    "    <li><code>del список</code> - удаляет список из кода.<br>\n",
    "        <code>a = [1,2,3]\n",
    "print(a)\n",
    "del a\n",
    "print(a) #ERROR</code></li>\n",
    "    <li><code>del список[кусок или индекс списка]</code> - удаляет список из кода.<br>\n",
    "    <code>a = [1,2,3,4,5,6,7]\n",
    "del a[2]\n",
    "print(a)\n",
    "del a[3:5]\n",
    "print(a)</code></li>\n",
    "    <li><code>max(список)</code>– максимум элемент.<br>\n",
    "    <code>a = [1,2,3,4,5,5]\n",
    "print(max(a))</code></li>  \n",
    "    <li><code>min(список)</code> – минимум элемент.<br>\n",
    "    <code>a = [4,2,3,1,34,3]\n",
    "print(min(a))</li>\n",
    "</ol>"
   ]
  },
  {
   "cell_type": "markdown",
   "metadata": {},
   "source": [
    "<br><u><i style=\"color:blue\">Задача №1</i></u>: создать пусто список, добавть 5 целых чисел через цикл for и input()."
   ]
  },
  {
   "cell_type": "code",
   "execution_count": null,
   "metadata": {},
   "outputs": [],
   "source": []
  },
  {
   "cell_type": "markdown",
   "metadata": {},
   "source": [
    "<br><u><i style=\"color:blue\">Задача №2</i></u>: создать пусто список, добавть 5 целых чисел через цикл for и input(). Отсортировать."
   ]
  },
  {
   "cell_type": "code",
   "execution_count": null,
   "metadata": {},
   "outputs": [],
   "source": []
  },
  {
   "cell_type": "markdown",
   "metadata": {},
   "source": [
    "<br><u><i style=\"color:blue\">Задача №3</i></u>: создать пусто список, добавть 5 целых чисел через цикл for и input(). Расширить с [12,12,12]."
   ]
  },
  {
   "cell_type": "code",
   "execution_count": null,
   "metadata": {},
   "outputs": [],
   "source": []
  },
  {
   "cell_type": "markdown",
   "metadata": {},
   "source": [
    "<br><u><i style=\"color:blue\">Задача №4</i></u>: создать пусто список, добавть 5 целых чисел через цикл for и input(). Поменять значение 2-го элемента на квадрат старого значения."
   ]
  },
  {
   "cell_type": "code",
   "execution_count": null,
   "metadata": {},
   "outputs": [],
   "source": []
  },
  {
   "cell_type": "markdown",
   "metadata": {},
   "source": [
    "<br><u><i style=\"color:blue\">Задача №5</i></u>: создать пусто список, добавть 5 целых чисел через цикл for и input(). Найти самое большее четное число."
   ]
  },
  {
   "cell_type": "code",
   "execution_count": null,
   "metadata": {},
   "outputs": [],
   "source": []
  },
  {
   "cell_type": "markdown",
   "metadata": {},
   "source": [
    "<h3>Модуль random</h3>\n",
    "<code>import random</code> - добавление модуля<br>\n",
    "<b>Функций модуля random</b><br>\n",
    "<ol>\n",
    "    <li><code>random.randrange(конец)</code> - Случайно выбирает целое число в промежутке $[0,конец]$</li>\n",
    "    <li><code>random.randrange(начало, конец[, шаг])</code> - Случайно выбирает целое число среди каждого с шагом \"шаг\" в промежутке $[начало,конец]$</li>\n",
    "    <li><code>random.randint(a, b)</code> - Случайно выбирает целое число в промежутке $[a,b]$</li>\n",
    "    <li><code>random.choice(коллекция)</code> - Случайно выбирает элемент из коллекции</li>\n",
    "    <li><code>random.choices(population=коллекция,k=количество)</code> - Случайно выбирает элемент из коллекции в указанном количестве</li>\n",
    "    <li><code>random.shuffle(коллекция)</code> - Перемешивает коллекцию</li>\n",
    "    <li><code>random.sample(population=коллекция, k=количество)</code> - тоже самое что random.choice()</li>\n",
    "    <li><code>random.random()</code> - Случайно выбирает действительное число в промежутке $[0,1]$</li>\n",
    "    <li><code>random.uniform(a, b)</code> - Случайно выбирает действительное число в промежутке $[a,b]$</li>\n",
    "</ol>\n",
    "Только random.uniform(a,b) может иметь параметр из действительных чисел, остальные выше указанные фугкций могут иметь только целочисленные параметры."
   ]
  },
  {
   "cell_type": "code",
   "execution_count": 54,
   "metadata": {},
   "outputs": [],
   "source": [
    "import random\n",
    "a = [1,2,3,4,5,6,7,8,9,10,11,12,13,14,15,16,17,18,19,20]"
   ]
  },
  {
   "cell_type": "code",
   "execution_count": 55,
   "metadata": {},
   "outputs": [
    {
     "name": "stdout",
     "output_type": "stream",
     "text": [
      "66\n"
     ]
    }
   ],
   "source": [
    "#1\n",
    "print(random.randrange(100))"
   ]
  },
  {
   "cell_type": "code",
   "execution_count": 56,
   "metadata": {},
   "outputs": [
    {
     "name": "stdout",
     "output_type": "stream",
     "text": [
      "80\n"
     ]
    }
   ],
   "source": [
    "#2\n",
    "print(random.randrange(10,100,5))"
   ]
  },
  {
   "cell_type": "code",
   "execution_count": 57,
   "metadata": {},
   "outputs": [
    {
     "name": "stdout",
     "output_type": "stream",
     "text": [
      "134\n"
     ]
    }
   ],
   "source": [
    "#3\n",
    "print(random.randint(10,200))"
   ]
  },
  {
   "cell_type": "code",
   "execution_count": 58,
   "metadata": {},
   "outputs": [
    {
     "name": "stdout",
     "output_type": "stream",
     "text": [
      "11\n"
     ]
    }
   ],
   "source": [
    "#4\n",
    "print(random.choice(a))"
   ]
  },
  {
   "cell_type": "code",
   "execution_count": 59,
   "metadata": {},
   "outputs": [
    {
     "name": "stdout",
     "output_type": "stream",
     "text": [
      "[10, 6, 9, 3, 8]\n"
     ]
    }
   ],
   "source": [
    "#5\n",
    "print(random.choices(population=a,k=5))"
   ]
  },
  {
   "cell_type": "code",
   "execution_count": 68,
   "metadata": {},
   "outputs": [
    {
     "name": "stdout",
     "output_type": "stream",
     "text": [
      "[15, 8, 7, 13, 3, 17, 4, 16, 1, 9, 2, 12, 6, 19, 20, 5, 10, 18, 11, 14]\n",
      "[13, 9, 2, 18, 7, 10, 6, 5, 20, 1, 8, 19, 3, 14, 17, 15, 12, 16, 4, 11]\n"
     ]
    }
   ],
   "source": [
    "#6\n",
    "print(a)\n",
    "random.shuffle(a)\n",
    "print(a)"
   ]
  },
  {
   "cell_type": "code",
   "execution_count": 72,
   "metadata": {},
   "outputs": [
    {
     "name": "stdout",
     "output_type": "stream",
     "text": [
      "[2, 19, 13, 3, 18, 10, 1, 14, 20, 11]\n"
     ]
    }
   ],
   "source": [
    "#7\n",
    "print(random.sample(population=a, k=10))"
   ]
  },
  {
   "cell_type": "code",
   "execution_count": 73,
   "metadata": {},
   "outputs": [
    {
     "name": "stdout",
     "output_type": "stream",
     "text": [
      "0.3254398005415222\n"
     ]
    }
   ],
   "source": [
    "#8\n",
    "print(random.random())"
   ]
  },
  {
   "cell_type": "code",
   "execution_count": 74,
   "metadata": {},
   "outputs": [
    {
     "name": "stdout",
     "output_type": "stream",
     "text": [
      "47.23984011981781\n"
     ]
    }
   ],
   "source": [
    "#9\n",
    "print(random.uniform(4.23,53.3))"
   ]
  },
  {
   "cell_type": "markdown",
   "metadata": {},
   "source": [
    "<br><u><i style=\"color:blue\">Задача №6</i></u>: Создать список из 10-ти случайных целых чисел в промежутке $[-100,100]$."
   ]
  },
  {
   "cell_type": "code",
   "execution_count": null,
   "metadata": {},
   "outputs": [],
   "source": []
  },
  {
   "cell_type": "markdown",
   "metadata": {},
   "source": [
    "<br><u><i style=\"color:blue\">Задача №7</i></u>: Создать список из 10 случайных действительных чисел. Найти число с самой большой целой частью среди этих чисел."
   ]
  },
  {
   "cell_type": "code",
   "execution_count": null,
   "metadata": {},
   "outputs": [],
   "source": []
  },
  {
   "cell_type": "markdown",
   "metadata": {},
   "source": [
    "<br><u><i style=\"color:blue\">Задача №8</i></u>: Создать список из 100 элементов, случайно быранных из промежутка $[-1000,1000]$. Найти максимум. Найти минимум. Найти самое большое отрицательное. Найти самое меньшее полажительное. Найти Сумму четных. Найти умножение не четных."
   ]
  },
  {
   "cell_type": "code",
   "execution_count": null,
   "metadata": {},
   "outputs": [],
   "source": []
  },
  {
   "cell_type": "markdown",
   "metadata": {},
   "source": [
    "<h3>Картеж - <code>tuple()</code></h3>\n",
    "Похож на список, но не изменяемый:<br>\n",
    "<ol>\n",
    "    <li>Значения элементов</li>\n",
    "    <li>Не добавляется новый элемент</li>\n",
    "    <li>Не удаляется элемент</li>\n",
    "</ol>\n",
    "Применяется когда нужен статичный, не изменяемый список<br>\n",
    "\n",
    "<b>Пример:</b> мета данные о человеке<br>\n",
    "<ol>\n",
    "    <li>Имя</li>\n",
    "    <li>Фамилия</li>\n",
    "    <li>Дата рождения</li>\n",
    "    <li>Должность</li>\n",
    "</ol>\n",
    "Данный список является мета данные о человеке, они постоянны, значит нет смсла менять их<br><br>\n",
    "\n",
    "<b>Создание tuple</b><br>\n",
    "<i>Синтаксис</i><br>\n",
    "<code>имя_картежа = (элемент1, элемент2,...)</code><br>\n",
    "Каждый элемент проиндексирован как в списке. Ко всем элементам можно обращться так же как и в списке, через цикл <code>for</code>. <code>len(картеж)</code> - возврашает количество элементов картежа. <code>del картеж</code> - удаляет весь картеж из кода. С помощью функции tuple() можно создать из списка.<br>\n",
    "<b>Пример:</b><br>\n",
    "<code>tuptup = ('Name', 'Lastname', 'Birthday')\n",
    "a = [1,2,3]\n",
    "t = tuple(a)\n",
    "tup = () – пустой tuple\n",
    "print(tup)\n",
    "print(tuptup)\n",
    "print(tuptup[0])\n",
    "print(tuptup[1])\n",
    "print(len(tuptup)) #Количество элементов\n",
    "del tuptup #Удаление всего картежа из кода\n",
    "tuptup[0] = 10 #ERROR</code>\n",
    "\n",
    "<i style=\"color:red\">Замечание</i><br>\n",
    "Пустой картеж: <code>a = ()</code><br>\n",
    "Картеж с одним элементом: <code>a =(1,)</code><br>\n",
    "<p style=\"color:red\">Картеж с одним элементом: <code>a =(1), a=(\"asdfasdf\")</code> - простые скобки с одним элементом внутри, будет создаваться значение как-будто скобок нет</p><br><br>\n",
    "\n",
    "<h3>Опреаций со списком</h3>\n",
    "<code>+</code> объединяет два списка: <code>картеж3 = картеж1+картеж2</code><br>\n",
    "<b>Пример:</b><br>\n",
    "<code>a = (1, 2, 3) + (4, 5, 6) #(1,2,3,4,5,6)</code><br><br>\n",
    "\n",
    "$*$ повторяет картеж несколько раз: <code>картеж2 = картеж*n</code><br>\n",
    "<b>Пример:</b><br>\n",
    "<code>a = ('Hi!') * 4 # ('Hi!', 'Hi!', 'Hi!', 'Hi!')</code><br><br>\n",
    "\n",
    "<code>in</code> проверяет есть ли элемент с указанным значением: <code> значение in картеж</code><br>\n",
    "<b>Пример:</b><br>\n",
    "<code>print(3 in (1, 2, 3))\n",
    "print(4 in (1,2,3))</code><br><br>\n",
    "\n",
    "<b style=\"color:blue\">Картеж может в себе хранить список и в списке можно хранить картеж, так же любые другие типы которых будет изучать после. Способ автозаполнения так же работает для картежей, но используя функцию tuple():</b><br>\n",
    "<b>Пример:</b><br>\n",
    "<code>a = [(1,2,3), 32,24,2]\n",
    "b = ([1,23,32],234,434)\n",
    "c = </code>"
   ]
  },
  {
   "cell_type": "markdown",
   "metadata": {},
   "source": [
    "<br><u><i style=\"color:blue\">Задача №9</i></u>: Создать картеж из 5-ти случайных чисел"
   ]
  },
  {
   "cell_type": "code",
   "execution_count": null,
   "metadata": {},
   "outputs": [],
   "source": []
  },
  {
   "cell_type": "markdown",
   "metadata": {},
   "source": [
    "<br><u><i style=\"color:blue\">Задача №10</i></u>: Создать картеж с элементами: 32,24,25225,24.24,25.25"
   ]
  },
  {
   "cell_type": "code",
   "execution_count": null,
   "metadata": {},
   "outputs": [],
   "source": []
  }
 ],
 "metadata": {
  "kernelspec": {
   "display_name": "Python 3",
   "language": "python",
   "name": "python3"
  },
  "language_info": {
   "codemirror_mode": {
    "name": "ipython",
    "version": 3
   },
   "file_extension": ".py",
   "mimetype": "text/x-python",
   "name": "python",
   "nbconvert_exporter": "python",
   "pygments_lexer": "ipython3",
   "version": "3.7.0"
  }
 },
 "nbformat": 4,
 "nbformat_minor": 2
}
