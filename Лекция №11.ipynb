{
 "cells": [
  {
   "attachments": {},
   "cell_type": "markdown",
   "metadata": {},
   "source": [
    "<h1>Функций map(), filter()</h1>\n",
    "В основном map() и filter() используют в лямбда функциях, но можно и с простыми функциями тоже.<br>\n",
    "<h3>map() и лямбда</h3>\n",
    "map() – используется для проекций одной или нескольких коллекций к другой новой, тоесть новая создается на основе существующих.<br>\n",
    "<b>Синтаксис</b><br>\n",
    "<code>map(функция(параметр1, параметр2, параметр3, ...), коллекция1, коллекция2, коллекция3,...)</code>. Функция может принимать сколко угодна параметров, каждый параметр соответсвует коллекцию через запятую. Чтобы увидеть результат, нужно тип поменять на список с помощью функции list()<br><br>\n",
    "\n",
    "\n",
    "В пример будем использовать данный список.<br>\n",
    "<code>a = [x for x in range(100)]</code> – список состояший из целых чисел от 0 до 99.<br><br>\n",
    "\n",
    "<b>Пример:</b><br>\n",
    "Проекцирование через увеличения на 10:<br>\n",
    "<code>map(lambda x: x+10, a) # 10, 11, 12, …, 109</code><br><br>\n",
    "\n",
    "<b>Пример:</b><br>\n",
    "Проекцирование через умножения на 2<br>\n",
    "<code>map(lambda x: x</code>$*$<code>2, a) # 0, 2, 4, …, 198</code><br><br>\n",
    "\n",
    "<b>Пример:</b><br>\n",
    "Проекцирование через увеличения определенную формулу<br>\n",
    "<code>map(lambda x: 2</code>$*x**$<code>2-x+10, a) # 10, 11, 16, …, 19010</code><br><br>\n",
    "\n",
    "<b>Пример:</b><br>\n",
    "Проекцирование на один тип для всех элементов<br>\n",
    "<code>map(lambda x: str(x), a) # 0, 2, 4, …, 200</code><br>\n",
    "\n",
    "<b>Пример:</b><br>\n",
    "По элементная сумма двух коллекций. При работе коллекциями с разными длинами, то map() будет брать количество ровная к наименшей длиноя. В примере показана две разных коллекций, может быть одной и той же коллекцией.<br>\n",
    "<code>a = [1,2,334,34,34,1]\n",
    "b = [53,21,3,53,1,5,3,1]\n",
    "print(list(map(lambda x,y: x+y, a,b)))</code><br><br>\n",
    "\n",
    "<h3>filter() и lambda</h3>\n",
    "filter() – функция для фильтраций коллекций.<br>\n",
    "<b>Синтаксис</b><br>\n",
    "filter(функция1, коллекция). функция1 принимает только один параметр.<br>\n",
    "filter() - на самом деле тоже самое что проходили фильтрацию в лекции списки.<br>\n",
    "\n",
    "<code>x = filter(lambda x: x>=20, a)</code> – создает новую отфильтрованную коллекцию остаив элементы больше или ровная 20.<br>"
   ]
  },
  {
   "cell_type": "markdown",
   "metadata": {},
   "source": [
    "<br><u><i style=\"color:blue\">Задача №1</i></u>: Создать два списка с случайными 10ью целыми числами. По элементно умножить."
   ]
  },
  {
   "cell_type": "code",
   "execution_count": null,
   "metadata": {},
   "outputs": [],
   "source": []
  },
  {
   "cell_type": "markdown",
   "metadata": {},
   "source": [
    "<br><u><i style=\"color:blue\">Задача №2</i></u>: Выполнить слудущюю операцию для первого списка из задачи №1: $$\\sqrt[y]{y^2}$$"
   ]
  },
  {
   "cell_type": "code",
   "execution_count": null,
   "metadata": {},
   "outputs": [],
   "source": []
  },
  {
   "cell_type": "markdown",
   "metadata": {},
   "source": [
    "<br><u><i style=\"color:blue\">Задача №3</i></u>: Сделать по элементное вычисление по следушей формуле: $$\\frac{y}{\\frac{3}{x^2+1}+y^2}$$"
   ]
  },
  {
   "cell_type": "code",
   "execution_count": null,
   "metadata": {},
   "outputs": [],
   "source": []
  },
  {
   "cell_type": "markdown",
   "metadata": {},
   "source": [
    "<br><u><i style=\"color:blue\">Задача №4</i></u>: Сделать по элементное вычисление по следушей формуле: $$\\sum_{x=1}^5 y^z$$"
   ]
  },
  {
   "cell_type": "code",
   "execution_count": null,
   "metadata": {},
   "outputs": [],
   "source": []
  },
  {
   "cell_type": "markdown",
   "metadata": {},
   "source": [
    "<br><u><i style=\"color:blue\">Задача №5</i></u>: Добавить еще один список чисел из файла. Нужно будет числа объеденить как строки, возвести в квадрат каждое полученное число. Например:<br>\n",
    "<code>a = [1,2,3]\n",
    "b = [3,2,6]\n",
    "from_file = [\"5\",\"5\",\"3\"]\n",
    "print(list(map(lambda x,y,z: int(str(x)+str(y)+z)**2, a,b,from_file)))</code><br>\n",
    "<b>Вывод:</b> [18225, 50625, 131769]"
   ]
  },
  {
   "cell_type": "code",
   "execution_count": null,
   "metadata": {},
   "outputs": [],
   "source": []
  }
 ],
 "metadata": {
  "kernelspec": {
   "display_name": "Python 3",
   "language": "python",
   "name": "python3"
  },
  "language_info": {
   "codemirror_mode": {
    "name": "ipython",
    "version": 3
   },
   "file_extension": ".py",
   "mimetype": "text/x-python",
   "name": "python",
   "nbconvert_exporter": "python",
   "pygments_lexer": "ipython3",
   "version": "3.7.0"
  }
 },
 "nbformat": 4,
 "nbformat_minor": 2
}
