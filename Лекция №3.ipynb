{
 "cells": [
  {
   "cell_type": "markdown",
   "metadata": {},
   "source": [
    "<h2>Циклы</h2><br>\n",
    "Цикл – повторяющиеся действия<br>\n",
    "Примеры циклов:<br>\n",
    "<ul>\n",
    "    <li>Работа</li>\n",
    "    <li>День студента</li>\n",
    "    <li>…</li>\n",
    "</ul>\n",
    "Может быть бесконечным?<br>\n",
    "Пример бесконечных циклов:<br>\n",
    "<ul>\n",
    "    <li>Числа</li>\n",
    "    <li>Время</li>\n",
    "    <li>…</li>\n",
    "</ul><br>\n",
    "\n",
    "<b>Циклы в Python - цикл while</b><br>\n",
    "<b><code>while</code></b> - называется условным цыклом. Действия в цикле <code>while</code> выполняется пока условие выполняется.<br><br>\n",
    "<b style=\"color:red\">Синтаксис</b><br>\n",
    "Обратите внимание на табуляцию, она такая же как в if-elif-else<br>\n",
    "<code>while условие:\n",
    "    действие\n",
    "else:\n",
    "    действие</code><br><br>\n",
    "Не обязательно использовать else. Else - необходимы для обработки ситуаций, которые не включены в цикл, когда она окончена не прунудительно.<br><br>\n",
    "\n",
    "<b>Пример №1:</b><br>\n",
    "Ввод разных значений в одну переменную, вводя каждым циклом новое значение, цикл остановится в случае ввода отрицательного числа."
   ]
  },
  {
   "cell_type": "code",
   "execution_count": 3,
   "metadata": {},
   "outputs": [
    {
     "name": "stdout",
     "output_type": "stream",
     "text": [
      "Enter a = -8\n"
     ]
    }
   ],
   "source": [
    "a = int(input('Enter a = '))\n",
    "while a>0:\n",
    "    print(a**2)\n",
    "    a = int(input('Enter a = '))"
   ]
  },
  {
   "cell_type": "markdown",
   "metadata": {},
   "source": [
    "<b>Пример №2:</b><br>\n",
    "Вывод чисел от 1 до n."
   ]
  },
  {
   "cell_type": "code",
   "execution_count": 6,
   "metadata": {},
   "outputs": [
    {
     "name": "stdout",
     "output_type": "stream",
     "text": [
      "Enter n = 5\n",
      "1\n",
      "2\n",
      "3\n",
      "4\n",
      "5\n"
     ]
    }
   ],
   "source": [
    "a = 1\n",
    "n = int(input(\"Enter n = \"))\n",
    "\n",
    "while a<=n:\n",
    "    print(a)\n",
    "    a = a+1 #a+=1"
   ]
  },
  {
   "cell_type": "markdown",
   "metadata": {},
   "source": [
    "<b>Пример №3:</b><br>\n",
    "Вывод чисел в промежудке от 1 до n, которые делятся на 3."
   ]
  },
  {
   "cell_type": "code",
   "execution_count": 8,
   "metadata": {},
   "outputs": [
    {
     "name": "stdout",
     "output_type": "stream",
     "text": [
      "Enter n = 10\n",
      "3\n",
      "6\n",
      "9\n"
     ]
    }
   ],
   "source": [
    "a = 1\n",
    "n = int(input('Enter n = '))\n",
    "\n",
    "while a<=n:\n",
    "    if a%3==0:\n",
    "        print(a)\n",
    "    a = a+1 #a+=1"
   ]
  },
  {
   "cell_type": "markdown",
   "metadata": {},
   "source": [
    "<b>Пример №4:</b><br>\n",
    "Вычисление суммы квадратов чисел от 1 до n."
   ]
  },
  {
   "cell_type": "code",
   "execution_count": 11,
   "metadata": {},
   "outputs": [
    {
     "name": "stdout",
     "output_type": "stream",
     "text": [
      "Enter n = 4\n",
      "30\n"
     ]
    }
   ],
   "source": [
    "a = 1\n",
    "n = int(input(\"Enter n = \"))\n",
    "sum = 0\n",
    "while a<=n:\n",
    "    sum = sum+a**2\n",
    "    a = a+1\n",
    "print (sum)\n"
   ]
  },
  {
   "cell_type": "markdown",
   "metadata": {},
   "source": [
    "<b><code>else</code> в циклах</b><br>\n",
    "<code>else</code> используется для рассмотрения случаев вне цикла. <code>else</code> выполнится в случае когда цикл закончился не прунудительно.<br>"
   ]
  },
  {
   "cell_type": "code",
   "execution_count": 12,
   "metadata": {},
   "outputs": [
    {
     "name": "stdout",
     "output_type": "stream",
     "text": [
      "-5\n",
      "Now not more than 0\n"
     ]
    }
   ],
   "source": [
    "a = int(input())\n",
    "while a>0:\n",
    "    print(a)\n",
    "    a = int(input())\n",
    "else:\n",
    "    print(\"Now not more than 0\")\n",
    "#В даееом примере цикл остановится если ввести число не большее 0."
   ]
  },
  {
   "cell_type": "markdown",
   "metadata": {},
   "source": [
    "<b>Принудительная остановка цикла - <code>break</code></b><br>\n",
    "Оператор break используется, если нет необходимости продолжать цикл.<br><br>\n",
    "<b>Пример №1:</b><br>\n",
    "Вывод чисел больше 4 бесконечно, но остановить принудительно при больше чем 10."
   ]
  },
  {
   "cell_type": "code",
   "execution_count": 16,
   "metadata": {},
   "outputs": [
    {
     "name": "stdout",
     "output_type": "stream",
     "text": [
      "5\n",
      "6\n",
      "7\n",
      "8\n",
      "9\n",
      "10\n"
     ]
    }
   ],
   "source": [
    "a = 5\n",
    "while a>4:\n",
    "    print(a)\n",
    "    a = a+1\n",
    "    if a>10:\n",
    "        break;"
   ]
  },
  {
   "cell_type": "markdown",
   "metadata": {},
   "source": [
    "<b>Пример №2:</b><br>\n",
    "<code>else</code> не сработает когда цикл останавливается принудительно с <code>break</code>"
   ]
  },
  {
   "cell_type": "code",
   "execution_count": 19,
   "metadata": {},
   "outputs": [
    {
     "name": "stdout",
     "output_type": "stream",
     "text": [
      "5\n",
      "6\n",
      "7\n",
      "8\n",
      "9\n",
      "10\n"
     ]
    }
   ],
   "source": [
    "a = 5\n",
    "while a>4:\n",
    "    print(a)\n",
    "    a = a+1\n",
    "    if a>10:\n",
    "        break;\n",
    "else:\n",
    "    print(\"When cycle not ended forecely\")"
   ]
  },
  {
   "cell_type": "markdown",
   "metadata": {},
   "source": [
    "<b>Пример №3:</b><br>\n",
    "<code>else</code> сработает когда цикл самостоятельно заканчивается, пусть и есть <code>break</code>"
   ]
  },
  {
   "cell_type": "code",
   "execution_count": 20,
   "metadata": {},
   "outputs": [
    {
     "name": "stdout",
     "output_type": "stream",
     "text": [
      "5\n",
      "7\n",
      "9\n",
      "11\n",
      "13\n",
      "15\n",
      "17\n",
      "19\n",
      "21\n",
      "23\n",
      "25\n",
      "27\n",
      "29\n",
      "31\n",
      "33\n",
      "35\n",
      "37\n",
      "39\n",
      "When cycle not ended forecely\n"
     ]
    }
   ],
   "source": [
    "a = 5\n",
    "while a<40:\n",
    "    print(a)\n",
    "    a = a+2\n",
    "    if a==10:\n",
    "        break;\n",
    "else:\n",
    "    print(\"When cycle not ended forecely\")"
   ]
  },
  {
   "cell_type": "markdown",
   "metadata": {},
   "source": [
    "<b>Наложенные циклы <code>while</code></b><br>\n",
    "Так же как в условных операторах, циклы могут иметь внутри условия, циклы и другие действия которые мы будем проходить в данном курсе.<br>\n",
    "\n",
    "<b>Пример:</b>"
   ]
  },
  {
   "cell_type": "code",
   "execution_count": 21,
   "metadata": {},
   "outputs": [
    {
     "name": "stdout",
     "output_type": "stream",
     "text": [
      "10\n",
      "55\n",
      "2\n",
      "3\n",
      "-5\n",
      "Now not more than 0\n"
     ]
    }
   ],
   "source": [
    "a = int(input())\n",
    "while a>0:\n",
    "    sum=0\n",
    "    b = 1\n",
    "    while b<=a:\n",
    "        sum = sum+b\n",
    "        b = b+1\n",
    "    print(sum)\n",
    "    a = int(input())\n",
    "else:\n",
    "    print(\"Now not more than 0\")\n"
   ]
  },
  {
   "cell_type": "markdown",
   "metadata": {},
   "source": [
    "<b>Итеративные операторы</b><br>\n",
    "<ul>\n",
    "    <li><code>+=</code> - Изменяет само число суммируя указанное число.<br>\n",
    "    Пример:<br>\n",
    "        <code>a = 10\n",
    "print(a)\n",
    "a+=2\n",
    "print(a)</code></li>\n",
    "    <li><code>-=</code> - Изменяет само число отнимая указанное число.<br>\n",
    "    Пример:<br>\n",
    "        <code>a = 10\n",
    "print(a)\n",
    "a-=2\n",
    "print(a)</code></li>\n",
    "    <li><code>*=</code> - Изменяет само число увеличивая указанное число раз.<br>\n",
    "    Пример:<br>\n",
    "        <code>a = 10\n",
    "print(a)\n",
    "a*=2\n",
    "print(a)</code></li>\n",
    "    <li><code>/=</code> - Изменяет само число уменшая указанное число раз.<br>\n",
    "    Пример:<br>\n",
    "        <code>a = 10\n",
    "print(a)\n",
    "a/=2\n",
    "print(a)</code></li>\n",
    "    <li><code>%=</code> - Изменяет само число изменив на остаток при делении само число на указанное число.<br>\n",
    "    Пример:<br>\n",
    "        <code>a = 10\n",
    "print(a)\n",
    "a%=2\n",
    "print(a)</code></li>\n",
    "    <li><code>//=</code> - Изменяет само число уменшая указанное число раз. В отличии от /= оставляет только целую часть<br>\n",
    "    Пример:<br>\n",
    "        <code>a = 10\n",
    "print(a)\n",
    "a//=2\n",
    "print(a)</code></li>\n",
    "    <li><code>**=</code> - Изменяет само число возводя в степень указанное число.<br>\n",
    "    Пример:<br>\n",
    "        <code>a = 10\n",
    "print(a)\n",
    "a**=2\n",
    "print(a)</code></li>\n",
    "</ul>"
   ]
  },
  {
   "cell_type": "markdown",
   "metadata": {},
   "source": [
    "<br><u><i style=\"color:blue\">Задача №1</i></u>: Умножить числа от 1 до n."
   ]
  },
  {
   "cell_type": "code",
   "execution_count": null,
   "metadata": {},
   "outputs": [],
   "source": []
  },
  {
   "cell_type": "markdown",
   "metadata": {},
   "source": [
    "<br><u><i style=\"color:blue\">Задача №2</i></u>: Умножить числа деляшиеся на 3 и не деляшиеся на 5 от 1 до n."
   ]
  },
  {
   "cell_type": "code",
   "execution_count": null,
   "metadata": {},
   "outputs": [],
   "source": []
  },
  {
   "cell_type": "markdown",
   "metadata": {},
   "source": [
    "<br><u><i style=\"color:blue\">Задача №3</i></u>: Вывести сумму чисел от m до n. Тут не известно которая из них больше"
   ]
  },
  {
   "cell_type": "code",
   "execution_count": null,
   "metadata": {},
   "outputs": [],
   "source": []
  },
  {
   "cell_type": "markdown",
   "metadata": {},
   "source": [
    "<br><u><i style=\"color:blue\">Задача №4</i></u>: Ввести сумму положительных чисел от m до n. Тут не известно которая из них больше"
   ]
  },
  {
   "cell_type": "code",
   "execution_count": null,
   "metadata": {},
   "outputs": [],
   "source": []
  }
 ],
 "metadata": {
  "kernelspec": {
   "display_name": "Python 3",
   "language": "python",
   "name": "python3"
  },
  "language_info": {
   "codemirror_mode": {
    "name": "ipython",
    "version": 3
   },
   "file_extension": ".py",
   "mimetype": "text/x-python",
   "name": "python",
   "nbconvert_exporter": "python",
   "pygments_lexer": "ipython3",
   "version": "3.7.0"
  }
 },
 "nbformat": 4,
 "nbformat_minor": 2
}
