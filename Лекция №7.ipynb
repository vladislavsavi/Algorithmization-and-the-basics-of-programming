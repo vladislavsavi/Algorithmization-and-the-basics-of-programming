{
 "cells": [
  {
   "cell_type": "markdown",
   "metadata": {},
   "source": [
    "<h1>Множество - <code>set()</code></h1>\n",
    "Помогает делать операций математического множества.<br>\n",
    "Вид коллекции, где элементы не могут иметь одинаковые значения, если повторились python автоматический удалит повтаряющииеся.<br>\n",
    "Не может иметь ворженную коллекцию, хотя может быть в других коллекциях как значение.<br>\n",
    "<code>множество = {}</code> – пустое множество.<br>\n",
    "<code>множество = {элементы через запятую}</code><br><br>\n",
    "\n",
    "<b>Пример:</b><br>\n",
    "<code>zhiyn = {10, 'a', 1, 'b','c', True}\n",
    "print(zhiyn)</code><br><br>\n",
    "\n",
    "Можете создавать множества с помощью функцией set().<br>\n",
    "<code>множество = set(список)\n",
    "множество = set(картеж)\n",
    "множество = set(словарь)</code><br><br>\n",
    "\n",
    "<b>Пример:</b><br>"
   ]
  },
  {
   "cell_type": "code",
   "execution_count": 8,
   "metadata": {},
   "outputs": [
    {
     "name": "stdout",
     "output_type": "stream",
     "text": [
      "{'salary', 'rank', 'age'}\n",
      "{123, 12, 1235.53}\n"
     ]
    }
   ],
   "source": [
    "a = {'age': 123, 'salary': 1235.53, 'rank': 12}\n",
    "skeys = set(a) #Создает множество из ключей\n",
    "svalues = set(a.values()) #Создает множество из значений\n",
    "print(skeys)\n",
    "print(svalues)"
   ]
  },
  {
   "cell_type": "markdown",
   "metadata": {},
   "source": [
    "<b>Пример:</b>"
   ]
  },
  {
   "cell_type": "code",
   "execution_count": 6,
   "metadata": {},
   "outputs": [
    {
     "name": "stdout",
     "output_type": "stream",
     "text": [
      "{1, 2, 3, 4, 43, 23}\n"
     ]
    }
   ],
   "source": [
    "a = [1,2,3,4,2,2,3,1,23,43]\n",
    "slist = set(a)\n",
    "print(slist)"
   ]
  },
  {
   "cell_type": "markdown",
   "metadata": {},
   "source": [
    "<b>Пример:</b>"
   ]
  },
  {
   "cell_type": "code",
   "execution_count": 7,
   "metadata": {},
   "outputs": [
    {
     "name": "stdout",
     "output_type": "stream",
     "text": [
      "{1, 2, 3, 34, 4}\n"
     ]
    }
   ],
   "source": [
    "a = (1,2,3,2,2,1,2,34,4)\n",
    "stuple = set(a)\n",
    "print(stuple)"
   ]
  },
  {
   "cell_type": "markdown",
   "metadata": {},
   "source": [
    "<h3>Операций и функций множества</h3>\n",
    "<code>zhiyn = {10, 'a', 1, 'b','c'}\n",
    "zhiyn1 = {10,'d'}\n",
    "zhiyn2 = {10,1}\n",
    "</code><br>\n",
    "\n",
    "<code>множество.add(значение)</code> – добавление нового элемнета<br>\n",
    "<b>Пример:</b><br>\n",
    "<code>zhiyn.add(100)</code> -> {10, 'a', 1, 'b', 'c', 100}<br><br>\n",
    "\n",
    "<code>множества.discard(значение)</code> – удаление элемента с указанным значением<br>\n",
    "<b>Пример:</b><br>\n",
    "<code>zhiyn.discard(10)</code> -> { 'a', 1, 'b', 'c', 100}<br><br>\n",
    "\n",
    "<code>|</code> - Мат объядинение: <code>множество3 = множество1 | множество2</code><br>\n",
    "<b>Пример:</b><br>\n",
    "<code>zhiyn | zhiyn1</code> -> {10, 'a', 1, 'b', 'c','d'}<br><br>\n",
    "\n",
    "$&$ - Мат Пересечение: <code>множество3 = множество1 </code>$&$<code> множество2</code><br>\n",
    "<b>Пример:</b><br>\n",
    "<code>zhiyn </code>$&$<code> zhiyn1</code> -> {10}<br><br>\n",
    "\n",
    "<code>-</code> - Мат разность: <code>множество3 = множество1 - множество2</code><br>\n",
    "<b>Пример:</b><br>\n",
    "<code>zhiyn - zhiyn1</code> -> {1, 'a', 'b', 'c'}<br>\n",
    "<code>zhiyn1 - zhiyn</code> -> {'d'}<br><br>\n",
    "\n",
    "$>= (<=)$ - Сравнение множеств, проверяет является ли одно подмножеством другого: <code> множество1 </code>$>= (<=)$<code> множества2</code><br>\n",
    "<code>zhiyn </code>$<=$<code> zhiyn1</code> -> False<br>\n",
    "<code>zhiyn </code>$>=$<code> zhiyn1</code> -> False<br>\n",
    "<code>zhiyn </code>$>=$<code> zhiyn2</code> -> True<br>\n",
    "<code>zhiyn </code>$<=$<code> zhiyn2</code> -> False<br><br>\n",
    "\n",
    "<h3>Обрашение к элементам set</h3>\n",
    "В set не допускаетсяобращение к отдельным элементам через индекс, только через цикл <code>for</code>.<br>\n",
    "<b>Пример:</b><br>\n",
    "<code>x = {1,2,3}\n",
    "for y in x:\n",
    "    print(y)</code>"
   ]
  },
  {
   "cell_type": "markdown",
   "metadata": {},
   "source": [
    "<br><u><i style=\"color:blue\">Задача №1</i></u>: Создать список из 20 случайных чисел из промежутка $[-100,100]. Создать множество из этого списка."
   ]
  },
  {
   "cell_type": "code",
   "execution_count": null,
   "metadata": {},
   "outputs": [],
   "source": []
  },
  {
   "cell_type": "markdown",
   "metadata": {},
   "source": [
    "<br><u><i style=\"color:blue\">Задача №2</i></u>: Найти сумму элементов в множестве из задачи №1."
   ]
  },
  {
   "cell_type": "code",
   "execution_count": null,
   "metadata": {},
   "outputs": [],
   "source": []
  },
  {
   "cell_type": "markdown",
   "metadata": {},
   "source": [
    "<br><u><i style=\"color:blue\">Задача №3</i></u>: Найти максимум из задачи №1."
   ]
  },
  {
   "cell_type": "code",
   "execution_count": null,
   "metadata": {},
   "outputs": [],
   "source": []
  },
  {
   "cell_type": "markdown",
   "metadata": {},
   "source": [
    "<br><u><i style=\"color:blue\">Задача №4</i></u>: Вывести четные числа в задаче №1."
   ]
  },
  {
   "cell_type": "code",
   "execution_count": null,
   "metadata": {},
   "outputs": [],
   "source": []
  },
  {
   "cell_type": "markdown",
   "metadata": {},
   "source": [
    "<br><u><i style=\"color:blue\">Задача №5</i></u>: Умножить нечетные числа из задачи №1."
   ]
  },
  {
   "cell_type": "code",
   "execution_count": null,
   "metadata": {},
   "outputs": [],
   "source": []
  }
 ],
 "metadata": {
  "kernelspec": {
   "display_name": "Python 3",
   "language": "python",
   "name": "python3"
  },
  "language_info": {
   "codemirror_mode": {
    "name": "ipython",
    "version": 3
   },
   "file_extension": ".py",
   "mimetype": "text/x-python",
   "name": "python",
   "nbconvert_exporter": "python",
   "pygments_lexer": "ipython3",
   "version": "3.7.0"
  }
 },
 "nbformat": 4,
 "nbformat_minor": 2
}
